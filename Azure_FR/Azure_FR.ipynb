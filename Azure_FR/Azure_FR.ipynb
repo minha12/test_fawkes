{
 "cells": [
  {
   "cell_type": "code",
   "execution_count": 1,
   "metadata": {
    "ExecuteTime": {
     "end_time": "2020-08-13T16:40:47.935968Z",
     "start_time": "2020-08-13T16:40:47.554224Z"
    }
   },
   "outputs": [],
   "source": [
    "import asyncio\n",
    "import io\n",
    "import glob\n",
    "import os\n",
    "import sys\n",
    "import time\n",
    "import uuid\n",
    "import requests\n",
    "import matplotlib.pyplot as plt\n",
    "from urllib.parse import urlparse\n",
    "from io import BytesIO\n",
    "from PIL import Image, ImageDraw\n",
    "from azure.cognitiveservices.vision.face import FaceClient\n",
    "from msrest.authentication import CognitiveServicesCredentials\n",
    "from azure.cognitiveservices.vision.face.models import TrainingStatusType, Person, SnapshotObjectType, OperationStatusType"
   ]
  },
  {
   "cell_type": "code",
   "execution_count": 12,
   "metadata": {
    "ExecuteTime": {
     "end_time": "2020-08-13T16:57:43.759626Z",
     "start_time": "2020-08-13T16:57:43.756931Z"
    }
   },
   "outputs": [],
   "source": [
    "KEY = os.environ['COGNITIVE_SERVICE_KEY']\n",
    "ENDPOINT = os.environ['ENDPOINT'] "
   ]
  },
  {
   "cell_type": "code",
   "execution_count": 29,
   "metadata": {
    "ExecuteTime": {
     "end_time": "2020-08-13T14:34:29.071208Z",
     "start_time": "2020-08-13T14:34:29.062925Z"
    }
   },
   "outputs": [],
   "source": [
    "# Create an authenticated FaceClient.\n",
    "face_client = FaceClient(ENDPOINT, CognitiveServicesCredentials(KEY))"
   ]
  },
  {
   "cell_type": "code",
   "execution_count": 78,
   "metadata": {
    "ExecuteTime": {
     "end_time": "2020-08-13T16:01:34.979394Z",
     "start_time": "2020-08-13T16:01:34.976616Z"
    }
   },
   "outputs": [],
   "source": [
    "# Used in the Person Group Operations,  Snapshot Operations, and Delete Person Group examples.\n",
    "# You can call list_person_groups to print a list of preexisting PersonGroups.\n",
    "# SOURCE_PERSON_GROUP_ID should be all lowercase and alphanumeric. For example, 'mygroupname' (dashes are OK).\n",
    "PERSON_GROUP_ID = 'imm_001'\n",
    "\n",
    "# Used for the Snapshot and Delete Person Group examples.\n",
    "TARGET_PERSON_GROUP_ID = str(uuid.uuid4()) # assign a random ID (or name it anything)"
   ]
  },
  {
   "cell_type": "code",
   "execution_count": 76,
   "metadata": {
    "ExecuteTime": {
     "end_time": "2020-08-13T16:01:12.526669Z",
     "start_time": "2020-08-13T16:01:12.523016Z"
    }
   },
   "outputs": [],
   "source": [
    "train_path = '../imm/train_min/'\n",
    "ids = set([x.split('-')[0] for x in os.listdir(train_path)])\n",
    "ids = list(ids)\n",
    "ids.sort()"
   ]
  },
  {
   "cell_type": "code",
   "execution_count": 79,
   "metadata": {
    "ExecuteTime": {
     "end_time": "2020-08-13T16:01:42.389109Z",
     "start_time": "2020-08-13T16:01:37.984350Z"
    },
    "collapsed": true
   },
   "outputs": [
    {
     "name": "stdout",
     "output_type": "stream",
     "text": [
      "Person group: imm_001\n",
      "01\n",
      "a1217bc6-0644-4d99-8eb3-9ee12b4b70a2\n",
      "02\n",
      "ca82a100-4937-418e-9e40-4e69e068bd93\n",
      "03\n",
      "2eea2864-b79e-4981-95b7-944aa483502b\n",
      "04\n",
      "aecce438-4b46-4a4b-a656-a216e7d92a6d\n",
      "05\n",
      "50d1a4f7-1cf7-48be-a2ec-0939c420bdb2\n",
      "06\n",
      "c31df498-bfc9-4558-995d-ee8fae900034\n",
      "07\n",
      "c0bb0c30-62ba-4fbd-bbba-a83f0a30c5c4\n",
      "08\n",
      "79c31334-b282-457c-815b-86a22e3b4434\n",
      "09\n",
      "f16c1b4d-0811-457e-9209-ff46a87e9031\n",
      "10\n",
      "0f34f2c2-adb4-4a97-a20a-971156b2a57f\n",
      "11\n",
      "6565c380-fdde-46fc-b28f-db2bdafaf981\n",
      "12\n",
      "8dded720-8b72-475e-9d06-8fb60a61795e\n",
      "13\n",
      "290655ef-516c-4b41-8e17-98e29f9621b7\n",
      "14\n",
      "114e6fc2-1e94-4506-8ca7-1934f7a5d7e4\n",
      "15\n",
      "3edd7dc0-8f85-4bb0-8df9-8b2393d84e60\n",
      "16\n",
      "85b69a49-64ec-4041-aaad-8735b08519e2\n",
      "17\n",
      "c918f739-8643-495e-8f64-336e84238bc6\n",
      "18\n",
      "4a292511-cda4-4be7-9118-34c156425913\n",
      "19\n",
      "be7b3505-10ae-4227-98bc-ae7352517d37\n",
      "20\n",
      "78ecc3e2-ab7a-4cfd-88c5-98e2b158465d\n",
      "21\n",
      "6062ffd7-4252-4e42-b5e0-90892b6b79c3\n",
      "22\n",
      "14f7eef2-4b30-4f95-a19b-123bf7a3ac78\n",
      "23\n",
      "8ca790b2-ed45-449a-850a-5d1e60c4ee01\n",
      "24\n",
      "116444b5-5609-48b5-afce-ea81734e2aed\n",
      "25\n",
      "5699571a-0257-4727-a95f-ac650b7fe7bf\n",
      "26\n",
      "b5dc05e4-abb4-4cde-85bc-4066d3dbb924\n",
      "27\n",
      "e96acb66-07c9-4236-ac6f-bf9f3a15c6a2\n",
      "28\n",
      "1ae7b9f5-c81a-494b-a238-be552eb7ed1f\n",
      "29\n",
      "b2929f7a-00a1-42ec-b2da-9531dc0bd5d7\n",
      "30\n",
      "9feb9e73-ddc4-4299-8ba9-b59272be8903\n",
      "31\n",
      "e70304fa-e69d-4d16-8244-e25540c1e3e4\n",
      "32\n",
      "dfbb8b2c-67fe-4d18-b1f0-8e191013eca0\n",
      "33\n",
      "f00fede1-eca8-4f13-97e8-b0a1779b8609\n",
      "34\n",
      "423e9711-b61b-41a0-9bc3-27097725cd87\n",
      "35\n",
      "975b701b-0c22-4226-b05a-abba65418687\n",
      "36\n",
      "9f534bec-7bfc-4b32-b227-698bf31c4bae\n",
      "37\n",
      "cb3a9d0b-6061-4e4d-99b2-236e72a24917\n",
      "38\n",
      "7e23073c-342b-418e-9c47-8d8246a8ba73\n",
      "39\n",
      "39a9220c-1fcf-45e9-b910-57d113abbeca\n",
      "40\n",
      "42e39d22-d333-494f-837c-0c031749a1e1\n"
     ]
    }
   ],
   "source": [
    "'''\n",
    "Create the PersonGroup\n",
    "'''\n",
    "# Create empty Person Group. Person Group ID must be lower case, alphanumeric, and/or with '-', '_'.\n",
    "print('Person group:', PERSON_GROUP_ID)\n",
    "face_client.person_group.create(person_group_id=PERSON_GROUP_ID, name=PERSON_GROUP_ID)\n",
    "\n",
    "people = []\n",
    "index_dict = []\n",
    "for index in ids:\n",
    "    person = face_client.person_group_person.create(PERSON_GROUP_ID, index)\n",
    "    people.append(person)\n",
    "    index_dict.extend([{'index': index, 'person_id': person.person_id}])\n"
   ]
  },
  {
   "cell_type": "code",
   "execution_count": 80,
   "metadata": {
    "ExecuteTime": {
     "end_time": "2020-08-13T16:04:39.074661Z",
     "start_time": "2020-08-13T16:03:52.012906Z"
    }
   },
   "outputs": [],
   "source": [
    "'''\n",
    "Detect faces and register to correct person\n",
    "'''\n",
    "# Find all jpeg images of person in working directory\n",
    "people_images = []\n",
    "for index in ids:\n",
    "    person_images = [train_path + file for file in os.listdir(train_path) if file.startswith(index)]\n",
    "    people_images.append(person_images)\n",
    "\n",
    "for person, person_images in zip(people, people_images):\n",
    "    # Add to a woman person\n",
    "    for image in person_images:\n",
    "        w = open(image, 'r+b')\n",
    "        face_client.person_group_person.add_face_from_stream(PERSON_GROUP_ID, person.person_id, w)\n"
   ]
  },
  {
   "cell_type": "code",
   "execution_count": 81,
   "metadata": {
    "ExecuteTime": {
     "end_time": "2020-08-13T16:04:44.236066Z",
     "start_time": "2020-08-13T16:04:39.076425Z"
    }
   },
   "outputs": [
    {
     "name": "stdout",
     "output_type": "stream",
     "text": [
      "\n",
      "Training the person group...\n",
      "Training status: running.\n",
      "\n",
      "Training status: succeeded.\n",
      "\n"
     ]
    }
   ],
   "source": [
    "'''\n",
    "Train PersonGroup\n",
    "'''\n",
    "print()\n",
    "print('Training the person group...')\n",
    "# Train the person group\n",
    "face_client.person_group.train(PERSON_GROUP_ID)\n",
    "\n",
    "while (True):\n",
    "    training_status = face_client.person_group.get_training_status(PERSON_GROUP_ID)\n",
    "    print(\"Training status: {}.\".format(training_status.status))\n",
    "    print()\n",
    "    if (training_status.status is TrainingStatusType.succeeded):\n",
    "        break\n",
    "    elif (training_status.status is TrainingStatusType.failed):\n",
    "        sys.exit('Training the person group has failed.')\n",
    "    time.sleep(5)"
   ]
  },
  {
   "cell_type": "code",
   "execution_count": 87,
   "metadata": {
    "ExecuteTime": {
     "end_time": "2020-08-13T16:16:59.334386Z",
     "start_time": "2020-08-13T16:16:59.330336Z"
    },
    "collapsed": true
   },
   "outputs": [
    {
     "data": {
      "text/plain": [
       "['17-6m.jpg',\n",
       " '35-6f.jpg',\n",
       " '05-6m.jpg',\n",
       " '22-6f.jpg',\n",
       " '26-6m.jpg',\n",
       " '34-6m.jpg',\n",
       " '31-6m.jpg',\n",
       " '38-6m.jpg',\n",
       " '02-6m.jpg',\n",
       " '06-6m.jpg',\n",
       " '07-6m.jpg',\n",
       " '11-6m.jpg',\n",
       " '32-6m.jpg',\n",
       " '30-6f.jpg',\n",
       " '39-6m.jpg',\n",
       " '20-6m.jpg',\n",
       " '16-6m.jpg',\n",
       " '18-6m.jpg',\n",
       " '36-6m.jpg',\n",
       " '37-6m.jpg',\n",
       " '12-6f.jpg',\n",
       " '21-6m.jpg',\n",
       " '14-6f.jpg',\n",
       " '23-6m.jpg',\n",
       " '19-6m.jpg',\n",
       " '28-6m.jpg',\n",
       " '15-6f.jpg',\n",
       " '33-6m.jpg',\n",
       " '24-6m.jpg',\n",
       " '25-6m.jpg',\n",
       " '29-6m.jpg',\n",
       " '03-6m.jpg',\n",
       " '04-6m.jpg',\n",
       " '40-6m.jpg',\n",
       " '13-6m.jpg',\n",
       " '08-6f.jpg',\n",
       " '01-6m.jpg',\n",
       " '27-6m.jpg',\n",
       " '10-6m.jpg',\n",
       " '09-6m.jpg']"
      ]
     },
     "execution_count": 87,
     "metadata": {},
     "output_type": "execute_result"
    }
   ],
   "source": [
    "os.listdir('../imm/test/')"
   ]
  },
  {
   "cell_type": "code",
   "execution_count": 88,
   "metadata": {
    "ExecuteTime": {
     "end_time": "2020-08-13T16:19:08.308553Z",
     "start_time": "2020-08-13T16:18:58.586364Z"
    },
    "scrolled": false
   },
   "outputs": [
    {
     "name": "stdout",
     "output_type": "stream",
     "text": [
      "Identifying faces in 17-6m.jpg\n",
      "Succesfull identifed with confidence:  0.70441\n",
      "Identifying faces in 35-6f.jpg\n",
      "Succesfull identifed with confidence:  0.71688\n",
      "Identifying faces in 05-6m.jpg\n",
      "Succesfull identifed with confidence:  0.76879\n",
      "Identifying faces in 22-6f.jpg\n",
      "Succesfull identifed with confidence:  0.69649\n",
      "Identifying faces in 26-6m.jpg\n",
      "Succesfull identifed with confidence:  0.87816\n",
      "Identifying faces in 34-6m.jpg\n",
      "Succesfull identifed with confidence:  0.78223\n",
      "Identifying faces in 31-6m.jpg\n",
      "Succesfull identifed with confidence:  0.74775\n",
      "Identifying faces in 38-6m.jpg\n",
      "Succesfull identifed with confidence:  0.71601\n",
      "Identifying faces in 02-6m.jpg\n",
      "Succesfull identifed with confidence:  0.78883\n",
      "Identifying faces in 06-6m.jpg\n",
      "Succesfull identifed with confidence:  0.86857\n",
      "Identifying faces in 07-6m.jpg\n",
      "Succesfull identifed with confidence:  0.7365\n",
      "Identifying faces in 11-6m.jpg\n",
      "Succesfull identifed with confidence:  0.79475\n",
      "Identifying faces in 32-6m.jpg\n",
      "Succesfull identifed with confidence:  0.7848\n",
      "Identifying faces in 30-6f.jpg\n",
      "Succesfull identifed with confidence:  0.8192\n",
      "Identifying faces in 39-6m.jpg\n",
      "Succesfull identifed with confidence:  0.68639\n",
      "Identifying faces in 20-6m.jpg\n",
      "Succesfull identifed with confidence:  0.7155\n",
      "Identifying faces in 16-6m.jpg\n",
      "Succesfull identifed with confidence:  0.55272\n",
      "Identifying faces in 18-6m.jpg\n",
      "Succesfull identifed with confidence:  0.86173\n",
      "Identifying faces in 36-6m.jpg\n",
      "Succesfull identifed with confidence:  0.73877\n",
      "Identifying faces in 37-6m.jpg\n",
      "Succesfull identifed with confidence:  0.74653\n",
      "Identifying faces in 12-6f.jpg\n",
      "Succesfull identifed with confidence:  0.70209\n",
      "Identifying faces in 21-6m.jpg\n",
      "Succesfull identifed with confidence:  0.73285\n",
      "Identifying faces in 14-6f.jpg\n",
      "Succesfull identifed with confidence:  0.79513\n",
      "Identifying faces in 23-6m.jpg\n",
      "Succesfull identifed with confidence:  0.76362\n",
      "Identifying faces in 19-6m.jpg\n",
      "Succesfull identifed with confidence:  0.7652\n",
      "Identifying faces in 28-6m.jpg\n",
      "Succesfull identifed with confidence:  0.75379\n",
      "Identifying faces in 15-6f.jpg\n",
      "Succesfull identifed with confidence:  0.72639\n",
      "Identifying faces in 33-6m.jpg\n",
      "Succesfull identifed with confidence:  0.71798\n",
      "Identifying faces in 24-6m.jpg\n",
      "Succesfull identifed with confidence:  0.78832\n",
      "Identifying faces in 25-6m.jpg\n",
      "Succesfull identifed with confidence:  0.73501\n",
      "Identifying faces in 29-6m.jpg\n",
      "Succesfull identifed with confidence:  0.82223\n",
      "Identifying faces in 03-6m.jpg\n",
      "Succesfull identifed with confidence:  0.79678\n",
      "Identifying faces in 04-6m.jpg\n",
      "Succesfull identifed with confidence:  0.7752\n",
      "Identifying faces in 40-6m.jpg\n",
      "Succesfull identifed with confidence:  0.81176\n",
      "Identifying faces in 13-6m.jpg\n",
      "Succesfull identifed with confidence:  0.74826\n",
      "Identifying faces in 08-6f.jpg\n",
      "Succesfull identifed with confidence:  0.73986\n",
      "Identifying faces in 01-6m.jpg\n",
      "Succesfull identifed with confidence:  0.83565\n",
      "Identifying faces in 27-6m.jpg\n",
      "Succesfull identifed with confidence:  0.6546\n",
      "Identifying faces in 10-6m.jpg\n",
      "Succesfull identifed with confidence:  0.7982\n",
      "Identifying faces in 09-6m.jpg\n",
      "Succesfull identifed with confidence:  0.79151\n"
     ]
    }
   ],
   "source": [
    "'''\n",
    "Identify a face against a defined PersonGroup\n",
    "'''\n",
    "TEST_FOLDER = '../imm/test/'\n",
    "for test_image in os.listdir(TEST_FOLDER):\n",
    "    # Get test image\n",
    "    test_image_array = glob.glob(os.path.join(IMAGES_FOLDER, test_image))\n",
    "    image = open(test_image_array[0], 'r+b')\n",
    "\n",
    "    # Detect faces\n",
    "    face_ids = []\n",
    "    faces = face_client.face.detect_with_stream(image)\n",
    "    for face in faces:\n",
    "        face_ids.append(face.face_id)\n",
    "\n",
    "    # Identify faces\n",
    "    results = face_client.face.identify(face_ids, PERSON_GROUP_ID)\n",
    "    print('Identifying faces in {}'.format(os.path.basename(image.name)))\n",
    "    if not results:\n",
    "        print('No person identified in the person group for faces from {}.'.format(os.path.basename(image.name)))\n",
    "    for person in results:\n",
    "        index_person = [d['index'] for d in index_dict if d['person_id']== person.candidates[0].person_id]\n",
    "        if index_person[0] == os.path.basename(image.name).split('-')[0]:\n",
    "            print('Succesfull identifed with confidence: ', person.candidates[0].confidence)"
   ]
  }
 ],
 "metadata": {
  "kernelspec": {
   "display_name": "azureml_py36_tensorflow",
   "language": "python",
   "name": "conda-env-azureml_py36_tensorflow-py"
  },
  "language_info": {
   "codemirror_mode": {
    "name": "ipython",
    "version": 3
   },
   "file_extension": ".py",
   "mimetype": "text/x-python",
   "name": "python",
   "nbconvert_exporter": "python",
   "pygments_lexer": "ipython3",
   "version": "3.6.9"
  },
  "toc": {
   "base_numbering": 1,
   "nav_menu": {},
   "number_sections": true,
   "sideBar": true,
   "skip_h1_title": false,
   "title_cell": "Table of Contents",
   "title_sidebar": "Contents",
   "toc_cell": false,
   "toc_position": {},
   "toc_section_display": true,
   "toc_window_display": false
  }
 },
 "nbformat": 4,
 "nbformat_minor": 4
}
