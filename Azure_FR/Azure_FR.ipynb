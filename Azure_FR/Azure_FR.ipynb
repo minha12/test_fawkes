{
 "cells": [
  {
   "cell_type": "code",
   "execution_count": 1,
   "metadata": {
    "ExecuteTime": {
     "end_time": "2020-08-13T16:40:47.935968Z",
     "start_time": "2020-08-13T16:40:47.554224Z"
    }
   },
   "outputs": [],
   "source": [
    "import asyncio\n",
    "import io\n",
    "import glob\n",
    "import os\n",
    "import sys\n",
    "import time\n",
    "import uuid\n",
    "import requests\n",
    "import matplotlib.pyplot as plt\n",
    "from urllib.parse import urlparse\n",
    "from io import BytesIO\n",
    "from PIL import Image, ImageDraw\n",
    "from azure.cognitiveservices.vision.face import FaceClient\n",
    "from msrest.authentication import CognitiveServicesCredentials\n",
    "from azure.cognitiveservices.vision.face.models import TrainingStatusType, Person, SnapshotObjectType, OperationStatusType"
   ]
  },
  {
   "cell_type": "code",
   "execution_count": 12,
   "metadata": {
    "ExecuteTime": {
     "end_time": "2020-08-13T16:57:43.759626Z",
     "start_time": "2020-08-13T16:57:43.756931Z"
    }
   },
   "outputs": [],
   "source": [
    "KEY = os.environ['COGNITIVE_SERVICE_KEY']\n",
    "ENDPOINT = os.environ['ENDPOINT'] "
   ]
  },
  {
   "cell_type": "code",
   "execution_count": 29,
   "metadata": {
    "ExecuteTime": {
     "end_time": "2020-08-13T14:34:29.071208Z",
     "start_time": "2020-08-13T14:34:29.062925Z"
    }
   },
   "outputs": [],
   "source": [
    "# Create an authenticated FaceClient.\n",
    "face_client = FaceClient(ENDPOINT, CognitiveServicesCredentials(KEY))"
   ]
  },
  {
   "cell_type": "code",
   "execution_count": 78,
   "metadata": {
    "ExecuteTime": {
     "end_time": "2020-08-13T16:01:34.979394Z",
     "start_time": "2020-08-13T16:01:34.976616Z"
    }
   },
   "outputs": [],
   "source": [
    "# Used in the Person Group Operations,  Snapshot Operations, and Delete Person Group examples.\n",
    "# You can call list_person_groups to print a list of preexisting PersonGroups.\n",
    "# SOURCE_PERSON_GROUP_ID should be all lowercase and alphanumeric. For example, 'mygroupname' (dashes are OK).\n",
    "PERSON_GROUP_ID = 'imm_001'\n",
    "\n",
    "# Used for the Snapshot and Delete Person Group examples.\n",
    "TARGET_PERSON_GROUP_ID = str(uuid.uuid4()) # assign a random ID (or name it anything)"
   ]
  },
  {
   "cell_type": "code",
   "execution_count": 76,
   "metadata": {
    "ExecuteTime": {
     "end_time": "2020-08-13T16:01:12.526669Z",
     "start_time": "2020-08-13T16:01:12.523016Z"
    }
   },
   "outputs": [],
   "source": [
    "train_path = '../imm/train_min/'\n",
    "ids = set([x.split('-')[0] for x in os.listdir(train_path)])\n",
    "ids = list(ids)\n",
    "ids.sort()"
   ]
  },
  {
   "cell_type": "code",
   "execution_count": null,
   "metadata": {
    "ExecuteTime": {
     "end_time": "2020-08-13T16:01:42.389109Z",
     "start_time": "2020-08-13T16:01:37.984350Z"
    }
   },
   "outputs": [],
   "source": [
    "'''\n",
    "Create the PersonGroup\n",
    "'''\n",
    "# Create empty Person Group. Person Group ID must be lower case, alphanumeric, and/or with '-', '_'.\n",
    "print('Person group:', PERSON_GROUP_ID)\n",
    "face_client.person_group.create(person_group_id=PERSON_GROUP_ID, name=PERSON_GROUP_ID)\n",
    "\n",
    "people = []\n",
    "index_dict = []\n",
    "for index in ids:\n",
    "    person = face_client.person_group_person.create(PERSON_GROUP_ID, index)\n",
    "    people.append(person)\n",
    "    index_dict.extend([{'index': index, 'person_id': person.person_id}])\n"
   ]
  },
  {
   "cell_type": "code",
   "execution_count": 80,
   "metadata": {
    "ExecuteTime": {
     "end_time": "2020-08-13T16:04:39.074661Z",
     "start_time": "2020-08-13T16:03:52.012906Z"
    }
   },
   "outputs": [],
   "source": [
    "'''\n",
    "Detect faces and register to correct person\n",
    "'''\n",
    "# Find all jpeg images of person in working directory\n",
    "people_images = []\n",
    "for index in ids:\n",
    "    person_images = [train_path + file for file in os.listdir(train_path) if file.startswith(index)]\n",
    "    people_images.append(person_images)\n",
    "\n",
    "for person, person_images in zip(people, people_images):\n",
    "    # Add to a woman person\n",
    "    for image in person_images:\n",
    "        w = open(image, 'r+b')\n",
    "        face_client.person_group_person.add_face_from_stream(PERSON_GROUP_ID, person.person_id, w)\n"
   ]
  },
  {
   "cell_type": "code",
   "execution_count": 81,
   "metadata": {
    "ExecuteTime": {
     "end_time": "2020-08-13T16:04:44.236066Z",
     "start_time": "2020-08-13T16:04:39.076425Z"
    }
   },
   "outputs": [
    {
     "name": "stdout",
     "output_type": "stream",
     "text": [
      "\n",
      "Training the person group...\n",
      "Training status: running.\n",
      "\n",
      "Training status: succeeded.\n",
      "\n"
     ]
    }
   ],
   "source": [
    "'''\n",
    "Train PersonGroup\n",
    "'''\n",
    "print()\n",
    "print('Training the person group...')\n",
    "# Train the person group\n",
    "face_client.person_group.train(PERSON_GROUP_ID)\n",
    "\n",
    "while (True):\n",
    "    training_status = face_client.person_group.get_training_status(PERSON_GROUP_ID)\n",
    "    print(\"Training status: {}.\".format(training_status.status))\n",
    "    print()\n",
    "    if (training_status.status is TrainingStatusType.succeeded):\n",
    "        break\n",
    "    elif (training_status.status is TrainingStatusType.failed):\n",
    "        sys.exit('Training the person group has failed.')\n",
    "    time.sleep(5)"
   ]
  },
  {
   "cell_type": "code",
   "execution_count": 88,
   "metadata": {
    "ExecuteTime": {
     "end_time": "2020-08-13T16:19:08.308553Z",
     "start_time": "2020-08-13T16:18:58.586364Z"
    },
    "scrolled": false
   },
   "outputs": [
    {
     "name": "stdout",
     "output_type": "stream",
     "text": [
      "Identifying faces in 17-6m.jpg\n",
      "Succesfull identifed with confidence:  0.70441\n",
      "Identifying faces in 35-6f.jpg\n",
      "Succesfull identifed with confidence:  0.71688\n",
      "Identifying faces in 05-6m.jpg\n",
      "Succesfull identifed with confidence:  0.76879\n",
      "Identifying faces in 22-6f.jpg\n",
      "Succesfull identifed with confidence:  0.69649\n",
      "Identifying faces in 26-6m.jpg\n",
      "Succesfull identifed with confidence:  0.87816\n",
      "Identifying faces in 34-6m.jpg\n",
      "Succesfull identifed with confidence:  0.78223\n",
      "Identifying faces in 31-6m.jpg\n",
      "Succesfull identifed with confidence:  0.74775\n",
      "Identifying faces in 38-6m.jpg\n",
      "Succesfull identifed with confidence:  0.71601\n",
      "Identifying faces in 02-6m.jpg\n",
      "Succesfull identifed with confidence:  0.78883\n",
      "Identifying faces in 06-6m.jpg\n",
      "Succesfull identifed with confidence:  0.86857\n",
      "Identifying faces in 07-6m.jpg\n",
      "Succesfull identifed with confidence:  0.7365\n",
      "Identifying faces in 11-6m.jpg\n",
      "Succesfull identifed with confidence:  0.79475\n",
      "Identifying faces in 32-6m.jpg\n",
      "Succesfull identifed with confidence:  0.7848\n",
      "Identifying faces in 30-6f.jpg\n",
      "Succesfull identifed with confidence:  0.8192\n",
      "Identifying faces in 39-6m.jpg\n",
      "Succesfull identifed with confidence:  0.68639\n",
      "Identifying faces in 20-6m.jpg\n",
      "Succesfull identifed with confidence:  0.7155\n",
      "Identifying faces in 16-6m.jpg\n",
      "Succesfull identifed with confidence:  0.55272\n",
      "Identifying faces in 18-6m.jpg\n",
      "Succesfull identifed with confidence:  0.86173\n",
      "Identifying faces in 36-6m.jpg\n",
      "Succesfull identifed with confidence:  0.73877\n",
      "Identifying faces in 37-6m.jpg\n",
      "Succesfull identifed with confidence:  0.74653\n",
      "Identifying faces in 12-6f.jpg\n",
      "Succesfull identifed with confidence:  0.70209\n",
      "Identifying faces in 21-6m.jpg\n",
      "Succesfull identifed with confidence:  0.73285\n",
      "Identifying faces in 14-6f.jpg\n",
      "Succesfull identifed with confidence:  0.79513\n",
      "Identifying faces in 23-6m.jpg\n",
      "Succesfull identifed with confidence:  0.76362\n",
      "Identifying faces in 19-6m.jpg\n",
      "Succesfull identifed with confidence:  0.7652\n",
      "Identifying faces in 28-6m.jpg\n",
      "Succesfull identifed with confidence:  0.75379\n",
      "Identifying faces in 15-6f.jpg\n",
      "Succesfull identifed with confidence:  0.72639\n",
      "Identifying faces in 33-6m.jpg\n",
      "Succesfull identifed with confidence:  0.71798\n",
      "Identifying faces in 24-6m.jpg\n",
      "Succesfull identifed with confidence:  0.78832\n",
      "Identifying faces in 25-6m.jpg\n",
      "Succesfull identifed with confidence:  0.73501\n",
      "Identifying faces in 29-6m.jpg\n",
      "Succesfull identifed with confidence:  0.82223\n",
      "Identifying faces in 03-6m.jpg\n",
      "Succesfull identifed with confidence:  0.79678\n",
      "Identifying faces in 04-6m.jpg\n",
      "Succesfull identifed with confidence:  0.7752\n",
      "Identifying faces in 40-6m.jpg\n",
      "Succesfull identifed with confidence:  0.81176\n",
      "Identifying faces in 13-6m.jpg\n",
      "Succesfull identifed with confidence:  0.74826\n",
      "Identifying faces in 08-6f.jpg\n",
      "Succesfull identifed with confidence:  0.73986\n",
      "Identifying faces in 01-6m.jpg\n",
      "Succesfull identifed with confidence:  0.83565\n",
      "Identifying faces in 27-6m.jpg\n",
      "Succesfull identifed with confidence:  0.6546\n",
      "Identifying faces in 10-6m.jpg\n",
      "Succesfull identifed with confidence:  0.7982\n",
      "Identifying faces in 09-6m.jpg\n",
      "Succesfull identifed with confidence:  0.79151\n"
     ]
    }
   ],
   "source": [
    "'''\n",
    "Identify a face against a defined PersonGroup\n",
    "'''\n",
    "TEST_FOLDER = '../imm/test/'\n",
    "for test_image in os.listdir(TEST_FOLDER):\n",
    "    # Get test image\n",
    "    test_image_array = glob.glob(os.path.join(IMAGES_FOLDER, test_image))\n",
    "    image = open(test_image_array[0], 'r+b')\n",
    "\n",
    "    # Detect faces\n",
    "    face_ids = []\n",
    "    faces = face_client.face.detect_with_stream(image)\n",
    "    for face in faces:\n",
    "        face_ids.append(face.face_id)\n",
    "\n",
    "    # Identify faces\n",
    "    results = face_client.face.identify(face_ids, PERSON_GROUP_ID)\n",
    "    print('Identifying faces in {}'.format(os.path.basename(image.name)))\n",
    "    if not results:\n",
    "        print('No person identified in the person group for faces from {}.'.format(os.path.basename(image.name)))\n",
    "    for person in results:\n",
    "        index_person = [d['index'] for d in index_dict if d['person_id']== person.candidates[0].person_id]\n",
    "        if index_person[0] == os.path.basename(image.name).split('-')[0]:\n",
    "            print('Succesfull identifed with confidence: ', person.candidates[0].confidence)"
   ]
  }
 ],
 "metadata": {
  "kernelspec": {
   "display_name": "azureml_py36_tensorflow",
   "language": "python",
   "name": "conda-env-azureml_py36_tensorflow-py"
  },
  "language_info": {
   "codemirror_mode": {
    "name": "ipython",
    "version": 3
   },
   "file_extension": ".py",
   "mimetype": "text/x-python",
   "name": "python",
   "nbconvert_exporter": "python",
   "pygments_lexer": "ipython3",
   "version": "3.6.9"
  },
  "toc": {
   "base_numbering": 1,
   "nav_menu": {},
   "number_sections": true,
   "sideBar": true,
   "skip_h1_title": false,
   "title_cell": "Table of Contents",
   "title_sidebar": "Contents",
   "toc_cell": false,
   "toc_position": {},
   "toc_section_display": true,
   "toc_window_display": false
  }
 },
 "nbformat": 4,
 "nbformat_minor": 4
}
