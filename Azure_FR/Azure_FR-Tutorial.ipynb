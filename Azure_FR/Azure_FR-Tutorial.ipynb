{
 "cells": [
  {
   "cell_type": "code",
   "execution_count": 1,
   "metadata": {
    "ExecuteTime": {
     "end_time": "2020-08-13T15:08:05.741222Z",
     "start_time": "2020-08-13T15:08:05.354139Z"
    }
   },
   "outputs": [],
   "source": [
    "import asyncio\n",
    "import io\n",
    "import glob\n",
    "import os\n",
    "import sys\n",
    "import time\n",
    "import uuid\n",
    "import requests\n",
    "import matplotlib.pyplot as plt\n",
    "from urllib.parse import urlparse\n",
    "from io import BytesIO\n",
    "from PIL import Image, ImageDraw\n",
    "from azure.cognitiveservices.vision.face import FaceClient\n",
    "from msrest.authentication import CognitiveServicesCredentials\n",
    "from azure.cognitiveservices.vision.face.models import TrainingStatusType, Person, SnapshotObjectType, OperationStatusType"
   ]
  },
  {
   "cell_type": "code",
   "execution_count": 2,
   "metadata": {
    "ExecuteTime": {
     "end_time": "2020-08-13T15:08:06.817075Z",
     "start_time": "2020-08-13T15:08:06.814522Z"
    }
   },
   "outputs": [],
   "source": [
    "KEY = 'cd17e816e9504445b9ce76b66e4bab18'\n",
    "ENDPOINT = 'https://anonfaces.cognitiveservices.azure.com/'"
   ]
  },
  {
   "cell_type": "code",
   "execution_count": 3,
   "metadata": {
    "ExecuteTime": {
     "end_time": "2020-08-13T15:08:10.329268Z",
     "start_time": "2020-08-13T15:08:10.319029Z"
    }
   },
   "outputs": [],
   "source": [
    "# Create an authenticated FaceClient.\n",
    "face_client = FaceClient(ENDPOINT, CognitiveServicesCredentials(KEY))"
   ]
  },
  {
   "cell_type": "code",
   "execution_count": 35,
   "metadata": {
    "ExecuteTime": {
     "end_time": "2020-08-13T15:41:49.931910Z",
     "start_time": "2020-08-13T15:41:49.929172Z"
    }
   },
   "outputs": [],
   "source": [
    "# Used in the Person Group Operations,  Snapshot Operations, and Delete Person Group examples.\n",
    "# You can call list_person_groups to print a list of preexisting PersonGroups.\n",
    "PERSON_GROUP_ID = 'hale-x20-x89'\n",
    "\n",
    "# Used for the Snapshot and Delete Person Group examples.\n",
    "TARGET_PERSON_GROUP_ID = str(uuid.uuid4()) # assign a random ID (or name it anything)"
   ]
  },
  {
   "cell_type": "code",
   "execution_count": 36,
   "metadata": {
    "ExecuteTime": {
     "end_time": "2020-08-13T15:41:57.832899Z",
     "start_time": "2020-08-13T15:41:57.498256Z"
    }
   },
   "outputs": [
    {
     "name": "stdout",
     "output_type": "stream",
     "text": [
      "Person group: hale-x20-x89\n"
     ]
    }
   ],
   "source": [
    "'''\n",
    "Create the PersonGroup\n",
    "'''\n",
    "# Create empty Person Group. Person Group ID must be lower case, alphanumeric, and/or with '-', '_'.\n",
    "print('Person group:', PERSON_GROUP_ID)\n",
    "face_client.person_group.create(person_group_id=PERSON_GROUP_ID, name=PERSON_GROUP_ID)\n",
    "\n",
    "# Define woman friend\n",
    "woman = face_client.person_group_person.create(PERSON_GROUP_ID, \"Woman\")\n",
    "# Define man friend\n",
    "man = face_client.person_group_person.create(PERSON_GROUP_ID, \"Man\")\n",
    "# Define child friend\n",
    "child = face_client.person_group_person.create(PERSON_GROUP_ID, \"Child\")\n"
   ]
  },
  {
   "cell_type": "code",
   "execution_count": 39,
   "metadata": {
    "ExecuteTime": {
     "end_time": "2020-08-13T15:42:44.653116Z",
     "start_time": "2020-08-13T15:42:44.649528Z"
    }
   },
   "outputs": [
    {
     "data": {
      "text/plain": [
       "'87674458-301c-41f4-a94f-45341b96f381'"
      ]
     },
     "execution_count": 39,
     "metadata": {},
     "output_type": "execute_result"
    }
   ],
   "source": [
    "woman.person_id"
   ]
  },
  {
   "cell_type": "code",
   "execution_count": 46,
   "metadata": {
    "ExecuteTime": {
     "end_time": "2020-08-13T15:45:45.945473Z",
     "start_time": "2020-08-13T15:45:44.360505Z"
    }
   },
   "outputs": [],
   "source": [
    "'''\n",
    "Detect faces and register to correct person\n",
    "'''\n",
    "data_dir = 'Data/'\n",
    "# Find all jpeg images of friends in working directory\n",
    "woman_images = [data_dir + file for file in os.listdir('Data/') if file.startswith(\"woman\")]\n",
    "man_images = [data_dir + file for file in os.listdir('Data/') if file.startswith(\"man\")]\n",
    "child_images = [data_dir + file for file in os.listdir('Data/') if file.startswith(\"child\")]\n",
    "\n",
    "# Add to a woman person\n",
    "for image in woman_images:\n",
    "    w = open(image, 'r+b')\n",
    "    face_client.person_group_person.add_face_from_stream(PERSON_GROUP_ID, woman.person_id, w)\n",
    "\n",
    "# Add to a man person\n",
    "for image in man_images:\n",
    "    m = open(image, 'r+b')\n",
    "    face_client.person_group_person.add_face_from_stream(PERSON_GROUP_ID, man.person_id, m)\n",
    "\n",
    "# Add to a child person\n",
    "for image in child_images:\n",
    "    ch = open(image, 'r+b')\n",
    "    face_client.person_group_person.add_face_from_stream(PERSON_GROUP_ID, child.person_id, ch)\n"
   ]
  },
  {
   "cell_type": "code",
   "execution_count": 44,
   "metadata": {
    "ExecuteTime": {
     "end_time": "2020-08-13T15:44:03.269792Z",
     "start_time": "2020-08-13T15:44:03.265851Z"
    },
    "collapsed": true
   },
   "outputs": [
    {
     "data": {
      "text/plain": [
       "['Data/man3-person-group.jpg',\n",
       " 'Data/woman3-person-group.jpg',\n",
       " 'Data/woman1-person-group.jpg',\n",
       " 'Data/child3-person-group.jpg',\n",
       " 'Data/woman2-person-group.jpg',\n",
       " 'Data/child2-person-group.jpg',\n",
       " 'Data/man1-person-group.jpg',\n",
       " 'Data/test-image-person-group.jpg',\n",
       " 'Data/man2-person-group.jpg',\n",
       " 'Data/extra-woman-image.jpg',\n",
       " 'Data/child1-person-group.jpg']"
      ]
     },
     "execution_count": 44,
     "metadata": {},
     "output_type": "execute_result"
    }
   ],
   "source": [
    "glob.glob('Data/*.jpg')"
   ]
  },
  {
   "cell_type": "code",
   "execution_count": 47,
   "metadata": {
    "ExecuteTime": {
     "end_time": "2020-08-13T15:45:57.231348Z",
     "start_time": "2020-08-13T15:45:52.131319Z"
    }
   },
   "outputs": [
    {
     "name": "stdout",
     "output_type": "stream",
     "text": [
      "\n",
      "Training the person group...\n",
      "Training status: running.\n",
      "\n",
      "Training status: succeeded.\n",
      "\n"
     ]
    }
   ],
   "source": [
    "'''\n",
    "Train PersonGroup\n",
    "'''\n",
    "print()\n",
    "print('Training the person group...')\n",
    "# Train the person group\n",
    "face_client.person_group.train(PERSON_GROUP_ID)\n",
    "\n",
    "while (True):\n",
    "    training_status = face_client.person_group.get_training_status(PERSON_GROUP_ID)\n",
    "    print(\"Training status: {}.\".format(training_status.status))\n",
    "    print()\n",
    "    if (training_status.status is TrainingStatusType.succeeded):\n",
    "        break\n",
    "    elif (training_status.status is TrainingStatusType.failed):\n",
    "        sys.exit('Training the person group has failed.')\n",
    "    time.sleep(5)"
   ]
  },
  {
   "cell_type": "code",
   "execution_count": 48,
   "metadata": {
    "ExecuteTime": {
     "end_time": "2020-08-13T15:46:02.394556Z",
     "start_time": "2020-08-13T15:46:02.176588Z"
    },
    "scrolled": true
   },
   "outputs": [],
   "source": [
    "'''\n",
    "Identify a face against a defined PersonGroup\n",
    "'''\n",
    "# Group image for testing against\n",
    "group_photo = 'test-image-person-group.jpg'\n",
    "IMAGES_FOLDER = 'Data/'\n",
    "test_image_array = glob.glob(os.path.join(IMAGES_FOLDER, group_photo))\n",
    "image = open(test_image_array[0], 'r+b')\n",
    "\n",
    "# Detect faces\n",
    "face_ids = []\n",
    "faces = face_client.face.detect_with_stream(image)\n",
    "for face in faces:\n",
    "    face_ids.append(face.face_id)"
   ]
  },
  {
   "cell_type": "code",
   "execution_count": 49,
   "metadata": {
    "ExecuteTime": {
     "end_time": "2020-08-13T15:46:04.771336Z",
     "start_time": "2020-08-13T15:46:04.719724Z"
    }
   },
   "outputs": [
    {
     "name": "stdout",
     "output_type": "stream",
     "text": [
      "Identifying faces in test-image-person-group.jpg\n",
      "Person with ID d06e89ce-66ae-4ee8-9bb0-bd95b1499eb4 is identified in test-image-person-group.jpg with a confidence of 0.92387.\n",
      "Person with ID 87674458-301c-41f4-a94f-45341b96f381 is identified in test-image-person-group.jpg with a confidence of 0.93316.\n"
     ]
    }
   ],
   "source": [
    "# Identify faces\n",
    "results = face_client.face.identify(face_ids, PERSON_GROUP_ID)\n",
    "print('Identifying faces in {}'.format(os.path.basename(image.name)))\n",
    "if not results:\n",
    "    print('No person identified in the person group for faces from {}.'.format(os.path.basename(image.name)))\n",
    "for person in results:\n",
    "    print('Person with ID {} is identified in {} with a confidence of {}.'.format(person.candidates[0].person_id, os.path.basename(image.name), person.candidates[0].confidence)) # Get topmost confidence score"
   ]
  },
  {
   "cell_type": "code",
   "execution_count": 27,
   "metadata": {
    "ExecuteTime": {
     "end_time": "2020-08-13T15:28:54.766788Z",
     "start_time": "2020-08-13T15:28:54.762892Z"
    }
   },
   "outputs": [
    {
     "data": {
      "text/plain": [
       "'4dbbbc26-d89a-47a8-b812-9dc7b7f271e5'"
      ]
     },
     "execution_count": 27,
     "metadata": {},
     "output_type": "execute_result"
    }
   ],
   "source": [
    "results[1].candidates[0].person_id"
   ]
  },
  {
   "cell_type": "code",
   "execution_count": 55,
   "metadata": {
    "ExecuteTime": {
     "end_time": "2020-08-13T15:47:46.116169Z",
     "start_time": "2020-08-13T15:47:46.113042Z"
    }
   },
   "outputs": [
    {
     "name": "stdout",
     "output_type": "stream",
     "text": [
      "<bound method Model.as_dict of <azure.cognitiveservices.vision.face.models._models_py3.Person object at 0x7f5f42be0828>>\n"
     ]
    }
   ],
   "source": [
    "print(woman.as_dict())"
   ]
  },
  {
   "cell_type": "code",
   "execution_count": 50,
   "metadata": {
    "ExecuteTime": {
     "end_time": "2020-08-13T15:46:09.730545Z",
     "start_time": "2020-08-13T15:46:09.726687Z"
    }
   },
   "outputs": [
    {
     "name": "stdout",
     "output_type": "stream",
     "text": [
      "woman:  87674458-301c-41f4-a94f-45341b96f381\n",
      "child:  c3faff3c-6adc-4551-830a-e5ea1ae988c4\n",
      "man:  d06e89ce-66ae-4ee8-9bb0-bd95b1499eb4\n"
     ]
    }
   ],
   "source": [
    "print('woman: ', woman.person_id)\n",
    "print('child: ', child.person_id)\n",
    "print('man: ', man.person_id)"
   ]
  },
  {
   "cell_type": "code",
   "execution_count": 33,
   "metadata": {
    "ExecuteTime": {
     "end_time": "2020-08-13T15:32:09.373745Z",
     "start_time": "2020-08-13T15:32:09.333720Z"
    }
   },
   "outputs": [
    {
     "data": {
      "text/plain": [
       "<azure.cognitiveservices.vision.face.models._models_py3.Person at 0x7f5f424dcd68>"
      ]
     },
     "execution_count": 33,
     "metadata": {},
     "output_type": "execute_result"
    }
   ],
   "source": [
    "face_client.person_group_person.list(PERSON_GROUP_ID)[0]."
   ]
  }
 ],
 "metadata": {
  "kernelspec": {
   "display_name": "azureml_py36_tensorflow",
   "language": "python",
   "name": "conda-env-azureml_py36_tensorflow-py"
  },
  "language_info": {
   "codemirror_mode": {
    "name": "ipython",
    "version": 3
   },
   "file_extension": ".py",
   "mimetype": "text/x-python",
   "name": "python",
   "nbconvert_exporter": "python",
   "pygments_lexer": "ipython3",
   "version": "3.6.9"
  },
  "toc": {
   "base_numbering": 1,
   "nav_menu": {},
   "number_sections": true,
   "sideBar": true,
   "skip_h1_title": false,
   "title_cell": "Table of Contents",
   "title_sidebar": "Contents",
   "toc_cell": false,
   "toc_position": {},
   "toc_section_display": true,
   "toc_window_display": false
  }
 },
 "nbformat": 4,
 "nbformat_minor": 4
}
