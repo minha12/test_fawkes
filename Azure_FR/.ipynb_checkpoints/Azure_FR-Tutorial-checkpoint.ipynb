{
 "cells": [
  {
   "cell_type": "code",
   "execution_count": 27,
   "metadata": {
    "ExecuteTime": {
     "end_time": "2020-08-13T14:34:22.066335Z",
     "start_time": "2020-08-13T14:34:22.058921Z"
    }
   },
   "outputs": [],
   "source": [
    "import asyncio\n",
    "import io\n",
    "import glob\n",
    "import os\n",
    "import sys\n",
    "import time\n",
    "import uuid\n",
    "import requests\n",
    "import matplotlib.pyplot as plt\n",
    "from urllib.parse import urlparse\n",
    "from io import BytesIO\n",
    "from PIL import Image, ImageDraw\n",
    "from azure.cognitiveservices.vision.face import FaceClient\n",
    "from msrest.authentication import CognitiveServicesCredentials\n",
    "from azure.cognitiveservices.vision.face.models import TrainingStatusType, Person, SnapshotObjectType, OperationStatusType"
   ]
  },
  {
   "cell_type": "code",
   "execution_count": 28,
   "metadata": {
    "ExecuteTime": {
     "end_time": "2020-08-13T14:34:26.312536Z",
     "start_time": "2020-08-13T14:34:26.309993Z"
    }
   },
   "outputs": [],
   "source": [
    "KEY = 'cd17e816e9504445b9ce76b66e4bab18'\n",
    "ENDPOINT = 'https://anonfaces.cognitiveservices.azure.com/'"
   ]
  },
  {
   "cell_type": "code",
   "execution_count": 29,
   "metadata": {
    "ExecuteTime": {
     "end_time": "2020-08-13T14:34:29.071208Z",
     "start_time": "2020-08-13T14:34:29.062925Z"
    }
   },
   "outputs": [],
   "source": [
    "# Create an authenticated FaceClient.\n",
    "face_client = FaceClient(ENDPOINT, CognitiveServicesCredentials(KEY))"
   ]
  },
  {
   "cell_type": "code",
   "execution_count": 30,
   "metadata": {
    "ExecuteTime": {
     "end_time": "2020-08-13T14:34:51.184452Z",
     "start_time": "2020-08-13T14:34:51.181676Z"
    }
   },
   "outputs": [],
   "source": [
    "# Used in the Person Group Operations,  Snapshot Operations, and Delete Person Group examples.\n",
    "# You can call list_person_groups to print a list of preexisting PersonGroups.\n",
    "# SOURCE_PERSON_GROUP_ID should be all lowercase and alphanumeric. For example, 'mygroupname' (dashes are OK).\n",
    "PERSON_GROUP_ID = 'imm'\n",
    "\n",
    "# Used for the Snapshot and Delete Person Group examples.\n",
    "TARGET_PERSON_GROUP_ID = str(uuid.uuid4()) # assign a random ID (or name it anything)"
   ]
  },
  {
   "cell_type": "code",
   "execution_count": 33,
   "metadata": {
    "ExecuteTime": {
     "end_time": "2020-08-13T14:39:51.608740Z",
     "start_time": "2020-08-13T14:39:51.603820Z"
    },
    "collapsed": true
   },
   "outputs": [
    {
     "data": {
      "text/plain": [
       "{'01',\n",
       " '02',\n",
       " '03',\n",
       " '04',\n",
       " '05',\n",
       " '06',\n",
       " '07',\n",
       " '08',\n",
       " '09',\n",
       " '10',\n",
       " '11',\n",
       " '12',\n",
       " '13',\n",
       " '14',\n",
       " '15',\n",
       " '16',\n",
       " '17',\n",
       " '18',\n",
       " '19',\n",
       " '20',\n",
       " '21',\n",
       " '22',\n",
       " '23',\n",
       " '24',\n",
       " '25',\n",
       " '26',\n",
       " '27',\n",
       " '28',\n",
       " '29',\n",
       " '30',\n",
       " '31',\n",
       " '32',\n",
       " '33',\n",
       " '34',\n",
       " '35',\n",
       " '36',\n",
       " '37',\n",
       " '38',\n",
       " '39',\n",
       " '40'}"
      ]
     },
     "execution_count": 33,
     "metadata": {},
     "output_type": "execute_result"
    }
   ],
   "source": [
    "train_path = '../imm/train_min/'\n",
    "ids = set([x.split('-')[0] for x in os.listdir(train_path)])\n",
    "ids"
   ]
  },
  {
   "cell_type": "code",
   "execution_count": 34,
   "metadata": {
    "ExecuteTime": {
     "end_time": "2020-08-13T14:41:55.657889Z",
     "start_time": "2020-08-13T14:41:49.982181Z"
    }
   },
   "outputs": [
    {
     "name": "stdout",
     "output_type": "stream",
     "text": [
      "Person group: imm\n"
     ]
    }
   ],
   "source": [
    "'''\n",
    "Create the PersonGroup\n",
    "'''\n",
    "# Create empty Person Group. Person Group ID must be lower case, alphanumeric, and/or with '-', '_'.\n",
    "print('Person group:', PERSON_GROUP_ID)\n",
    "face_client.person_group.create(person_group_id=PERSON_GROUP_ID, name=PERSON_GROUP_ID)\n",
    "\n",
    "people = []\n",
    "for index in ids:\n",
    "    person = face_client.person_group_person.create(PERSON_GROUP_ID, index)\n",
    "    people.append(person)\n"
   ]
  },
  {
   "cell_type": "code",
   "execution_count": 50,
   "metadata": {
    "ExecuteTime": {
     "end_time": "2020-08-13T14:58:00.023018Z",
     "start_time": "2020-08-13T14:57:11.403167Z"
    }
   },
   "outputs": [],
   "source": [
    "'''\n",
    "Detect faces and register to correct person\n",
    "'''\n",
    "# Find all jpeg images of person in working directory\n",
    "people_images = []\n",
    "for index in ids:\n",
    "    person_images = [train_path + file for file in os.listdir(train_path) if file.startswith(index)]\n",
    "    people_images.append(person_images)\n",
    "\n",
    "for person, person_images in zip(people, people_images):\n",
    "    # Add to a woman person\n",
    "    for image in person_images:\n",
    "        w = open(image, 'r+b')\n",
    "        face_client.person_group_person.add_face_from_stream(PERSON_GROUP_ID, person.person_id, w)\n"
   ]
  },
  {
   "cell_type": "code",
   "execution_count": 51,
   "metadata": {
    "ExecuteTime": {
     "end_time": "2020-08-13T14:58:10.746501Z",
     "start_time": "2020-08-13T14:58:05.595677Z"
    }
   },
   "outputs": [
    {
     "name": "stdout",
     "output_type": "stream",
     "text": [
      "\n",
      "Training the person group...\n",
      "Training status: running.\n",
      "\n",
      "Training status: succeeded.\n",
      "\n"
     ]
    }
   ],
   "source": [
    "'''\n",
    "Train PersonGroup\n",
    "'''\n",
    "print()\n",
    "print('Training the person group...')\n",
    "# Train the person group\n",
    "face_client.person_group.train(PERSON_GROUP_ID)\n",
    "\n",
    "while (True):\n",
    "    training_status = face_client.person_group.get_training_status(PERSON_GROUP_ID)\n",
    "    print(\"Training status: {}.\".format(training_status.status))\n",
    "    print()\n",
    "    if (training_status.status is TrainingStatusType.succeeded):\n",
    "        break\n",
    "    elif (training_status.status is TrainingStatusType.failed):\n",
    "        sys.exit('Training the person group has failed.')\n",
    "    time.sleep(5)"
   ]
  },
  {
   "cell_type": "code",
   "execution_count": 52,
   "metadata": {
    "ExecuteTime": {
     "end_time": "2020-08-13T15:01:01.397736Z",
     "start_time": "2020-08-13T15:01:01.148885Z"
    },
    "scrolled": true
   },
   "outputs": [],
   "source": [
    "'''\n",
    "Identify a face against a defined PersonGroup\n",
    "'''\n",
    "# Group image for testing against\n",
    "group_photo = '01-6m.jpg'\n",
    "# IMAGES_FOLDER = os.path.join(os.path.dirname(os.path.realpath(__file__)))\n",
    "IMAGES_FOLDER = '../imm/test/'\n",
    "# Get test image\n",
    "test_image_array = glob.glob(os.path.join(IMAGES_FOLDER, group_photo))\n",
    "image = open(test_image_array[0], 'r+b')\n",
    "\n",
    "# Detect faces\n",
    "face_ids = []\n",
    "faces = face_client.face.detect_with_stream(image)\n",
    "for face in faces:\n",
    "    face_ids.append(face.face_id)"
   ]
  },
  {
   "cell_type": "code",
   "execution_count": 53,
   "metadata": {
    "ExecuteTime": {
     "end_time": "2020-08-13T15:01:06.144568Z",
     "start_time": "2020-08-13T15:01:06.031553Z"
    }
   },
   "outputs": [
    {
     "name": "stdout",
     "output_type": "stream",
     "text": [
      "Identifying faces in 01-6m.jpg\n",
      "Person for face ID b501c757-92ab-4a1f-98f3-d568993bb817 is identified in 01-6m.jpg with a confidence of 0.83565.\n"
     ]
    }
   ],
   "source": [
    "# Identify faces\n",
    "results = face_client.face.identify(face_ids, PERSON_GROUP_ID)\n",
    "print('Identifying faces in {}'.format(os.path.basename(image.name)))\n",
    "if not results:\n",
    "    print('No person identified in the person group for faces from {}.'.format(os.path.basename(image.name)))\n",
    "for person in results:\n",
    "    print('Person for face ID {} is identified in {} with a confidence of {}.'.format(person.face_id, os.path.basename(image.name), person.candidates[0].confidence)) # Get topmost confidence score"
   ]
  },
  {
   "cell_type": "code",
   "execution_count": 55,
   "metadata": {
    "ExecuteTime": {
     "end_time": "2020-08-13T15:05:37.882365Z",
     "start_time": "2020-08-13T15:05:37.876497Z"
    }
   },
   "outputs": [
    {
     "name": "stdout",
     "output_type": "stream",
     "text": [
      "5f290d9a-63d7-4284-9c03-9a1683a07cb7\n",
      "aa47598e-7c27-4b70-adcc-11290808c306\n",
      "3ab51a52-b114-4471-a057-2e9f0aec6d14\n",
      "4e4713af-c8b8-4611-a611-348f18ec9907\n",
      "f912fd87-8141-4e8c-abbf-a58265893697\n",
      "95c21af6-c539-4864-8fb7-5ad3f0ff2652\n",
      "d8f621fa-6715-4022-a88d-68358ecd52df\n",
      "da298d86-cbb4-4a5f-b80d-3dec6c779dce\n",
      "363ecb27-e523-4f3e-ae29-c730d8c6a7bd\n",
      "f458a072-b6b1-43a8-af5e-fc71f87ee281\n",
      "16c2ace1-333e-4a3d-ae88-f1a3b20c87cb\n",
      "8095b4cc-a7f1-4544-92dc-0bc9d93de826\n",
      "0b26458a-0e23-4b02-8b1d-c9a6796e5f99\n",
      "79d33bdc-9b54-4fa6-b141-60cb5c95eafa\n",
      "1a24ab00-eb2c-43dc-9be7-a64e87fefc2c\n",
      "05642bc4-ad25-4151-9dbf-617d11445829\n",
      "aece493b-0252-4cb0-9f2b-f874578e6dbd\n",
      "f0c1ef70-e8ba-42cd-8ced-0ddb4d7e9bdc\n",
      "92ff5fb2-2774-42e2-b926-37e53698150d\n",
      "b1462d97-e36a-41bd-aa3b-648aa36a3170\n",
      "7de5017c-949c-4bda-a4d4-7bfa9b7efc64\n",
      "661709a2-72da-44d9-82aa-63ab71d68fdb\n",
      "c0920b6b-39c0-4252-9b94-da3310c49d31\n",
      "57fdf2ef-5ce4-43b9-9b56-f8cca0cdbdc1\n",
      "a7e06e89-8d52-497c-b52c-2a4b4e641220\n",
      "441c1aea-b74a-4db0-a7f5-56c1e452b35b\n",
      "2aac472c-b0ab-417d-900b-70a434660d2a\n",
      "85e4369e-94f7-4041-9d2d-048640dff11e\n",
      "3e52be72-958e-48c4-9a79-83da97321a34\n",
      "06fd58a3-a104-4911-bc4b-04c66124a1fe\n",
      "964eb7d9-ad99-4dc4-8780-21d9626863b9\n",
      "b7c852f1-e861-4063-8cb4-39c86eedd479\n",
      "d25b0826-41de-4948-8dad-abbd3f442d2a\n",
      "46abb278-8eaf-4bee-a969-2e2758d8cc9c\n",
      "7ee50eb2-e53e-4ac6-b3c9-12f1efe1117b\n",
      "5a58b931-6433-4704-9f8f-d38df1b48e34\n",
      "c6e79bca-8777-4df8-8562-f80377ce3b09\n",
      "7ceb13fd-c902-497d-a50b-1ff0c413fb92\n",
      "d11f3c69-b3ee-4d9b-8d7e-8a4cebcb5f48\n",
      "aafdab62-c199-4256-b786-afa4ab440166\n"
     ]
    }
   ],
   "source": [
    "for person in people:\n",
    "    print(person.person_id)"
   ]
  }
 ],
 "metadata": {
  "kernelspec": {
   "display_name": "azureml_py36_tensorflow",
   "language": "python",
   "name": "conda-env-azureml_py36_tensorflow-py"
  },
  "language_info": {
   "codemirror_mode": {
    "name": "ipython",
    "version": 3
   },
   "file_extension": ".py",
   "mimetype": "text/x-python",
   "name": "python",
   "nbconvert_exporter": "python",
   "pygments_lexer": "ipython3",
   "version": "3.6.9"
  },
  "toc": {
   "base_numbering": 1,
   "nav_menu": {},
   "number_sections": true,
   "sideBar": true,
   "skip_h1_title": false,
   "title_cell": "Table of Contents",
   "title_sidebar": "Contents",
   "toc_cell": false,
   "toc_position": {},
   "toc_section_display": true,
   "toc_window_display": false
  }
 },
 "nbformat": 4,
 "nbformat_minor": 4
}
