{
 "cells": [
  {
   "cell_type": "code",
   "execution_count": 1,
   "metadata": {
    "ExecuteTime": {
     "end_time": "2020-08-18T16:07:25.709326Z",
     "start_time": "2020-08-18T16:07:25.228935Z"
    }
   },
   "outputs": [],
   "source": [
    "import glob\n",
    "import os\n",
    "import sys\n",
    "import time\n",
    "import uuid\n",
    "from PIL import Image, ImageDraw\n",
    "import matplotlib.pyplot as plt\n",
    "from azure.cognitiveservices.vision.face import FaceClient\n",
    "from msrest.authentication import CognitiveServicesCredentials\n",
    "from azure.cognitiveservices.vision.face.models import TrainingStatusType, Person"
   ]
  },
  {
   "cell_type": "code",
   "execution_count": 4,
   "metadata": {
    "ExecuteTime": {
     "end_time": "2020-08-18T16:08:16.111218Z",
     "start_time": "2020-08-18T16:08:16.108498Z"
    }
   },
   "outputs": [],
   "source": [
    "KEY = os.environ['COGNITIVE_SERVICE_KEY']\n",
    "ENDPOINT = os.environ['ENDPOINT'] "
   ]
  },
  {
   "cell_type": "code",
   "execution_count": 5,
   "metadata": {
    "ExecuteTime": {
     "end_time": "2020-08-18T16:08:20.279960Z",
     "start_time": "2020-08-18T16:08:20.269899Z"
    }
   },
   "outputs": [],
   "source": [
    "# Create an authenticated FaceClient.\n",
    "face_client = FaceClient(ENDPOINT, CognitiveServicesCredentials(KEY))"
   ]
  },
  {
   "cell_type": "code",
   "execution_count": 6,
   "metadata": {
    "ExecuteTime": {
     "end_time": "2020-08-18T16:09:24.006699Z",
     "start_time": "2020-08-18T16:08:24.989750Z"
    }
   },
   "outputs": [
    {
     "name": "stdout",
     "output_type": "stream",
     "text": [
      "Person group: imm_no_cloak_00\n",
      "\n",
      "Training the person group...\n",
      "Training status: running.\n",
      "\n",
      "Training status: succeeded.\n",
      "\n",
      "Identifying faces in 01-6m.jpg\n",
      "Succesfull identifed with confidence:  0.91103\n",
      "Identifying faces in 02-6m.jpg\n",
      "Succesfull identifed with confidence:  0.94103\n",
      "Identifying faces in 03-6m.jpg\n",
      "Succesfull identifed with confidence:  0.89654\n",
      "Identifying faces in 04-6m.jpg\n",
      "Succesfull identifed with confidence:  0.87937\n",
      "Identifying faces in 05-6m.jpg\n",
      "Succesfull identifed with confidence:  0.93656\n",
      "Identifying faces in 06-6m.jpg\n",
      "Succesfull identifed with confidence:  0.94659\n",
      "Identifying faces in 07-6m.jpg\n",
      "Succesfull identifed with confidence:  0.87993\n",
      "Identifying faces in 08-6f.jpg\n",
      "Succesfull identifed with confidence:  0.86362\n",
      "Identifying faces in 09-6m.jpg\n",
      "Succesfull identifed with confidence:  0.87069\n",
      "Identifying faces in 10-6m.jpg\n",
      "Succesfull identifed with confidence:  0.92068\n",
      "Identifying faces in 11-6m.jpg\n",
      "Succesfull identifed with confidence:  0.87604\n",
      "Identifying faces in 12-6f.jpg\n",
      "Succesfull identifed with confidence:  0.79712\n",
      "Identifying faces in 13-6m.jpg\n",
      "Succesfull identifed with confidence:  0.88008\n",
      "Identifying faces in 14-6f.jpg\n",
      "Succesfull identifed with confidence:  0.92203\n",
      "Identifying faces in 15-6f.jpg\n",
      "Succesfull identifed with confidence:  0.84246\n",
      "Identifying faces in 16-6m.jpg\n",
      "Succesfull identifed with confidence:  0.73846\n",
      "Identifying faces in 17-6m.jpg\n",
      "Succesfull identifed with confidence:  0.84784\n",
      "Identifying faces in 18-6m.jpg\n",
      "Succesfull identifed with confidence:  0.9461\n",
      "Identifying faces in 19-6m.jpg\n",
      "Succesfull identifed with confidence:  0.87276\n",
      "Identifying faces in 20-6m.jpg\n",
      "Succesfull identifed with confidence:  0.85078\n",
      "Identifying faces in 21-6m.jpg\n",
      "Succesfull identifed with confidence:  0.87729\n",
      "Identifying faces in 22-6f.jpg\n",
      "Succesfull identifed with confidence:  0.81024\n",
      "Identifying faces in 23-6m.jpg\n",
      "Succesfull identifed with confidence:  0.87728\n",
      "Identifying faces in 24-6m.jpg\n",
      "Succesfull identifed with confidence:  0.88042\n",
      "Identifying faces in 25-6m.jpg\n",
      "Succesfull identifed with confidence:  0.87318\n",
      "Identifying faces in 26-6m.jpg\n",
      "Succesfull identifed with confidence:  0.91892\n",
      "Identifying faces in 27-6m.jpg\n",
      "Succesfull identifed with confidence:  0.68766\n",
      "Identifying faces in 28-6m.jpg\n",
      "Succesfull identifed with confidence:  0.8507\n",
      "Identifying faces in 29-6m.jpg\n",
      "Succesfull identifed with confidence:  0.92051\n",
      "Identifying faces in 30-6f.jpg\n",
      "Succesfull identifed with confidence:  0.89057\n",
      "Identifying faces in 31-6m.jpg\n",
      "Succesfull identifed with confidence:  0.76214\n",
      "Identifying faces in 32-6m.jpg\n",
      "Succesfull identifed with confidence:  0.94937\n",
      "Identifying faces in 33-6m.jpg\n",
      "Succesfull identifed with confidence:  0.84578\n",
      "Identifying faces in 34-6m.jpg\n",
      "Succesfull identifed with confidence:  0.88842\n",
      "Identifying faces in 35-6f.jpg\n",
      "Succesfull identifed with confidence:  0.81321\n",
      "Identifying faces in 36-6m.jpg\n",
      "Succesfull identifed with confidence:  0.82202\n",
      "Identifying faces in 37-6m.jpg\n",
      "Succesfull identifed with confidence:  0.8553\n",
      "Identifying faces in 38-6m.jpg\n",
      "Succesfull identifed with confidence:  0.89231\n",
      "Identifying faces in 39-6m.jpg\n",
      "Succesfull identifed with confidence:  0.8306\n",
      "Identifying faces in 40-6m.jpg\n",
      "Succesfull identifed with confidence:  0.90209\n"
     ]
    }
   ],
   "source": [
    "#Test the case no cloaking applied\n",
    "PERSON_GROUP_ID = 'imm_no_cloak_00'\n",
    "\n",
    "# Used for the Snapshot and Delete Person Group examples.\n",
    "TARGET_PERSON_GROUP_ID = str(uuid.uuid4()) # assign a random ID (or name it anything)\n",
    "\n",
    "train_path = 'imm/train/'\n",
    "ids = set([x.split('-')[0] for x in os.listdir(train_path)])\n",
    "ids = list(ids)\n",
    "ids.sort()\n",
    "\n",
    "print('Person group:', PERSON_GROUP_ID)\n",
    "face_client.person_group.create(person_group_id=PERSON_GROUP_ID, name=PERSON_GROUP_ID)\n",
    "\n",
    "people = []\n",
    "index_dict = []\n",
    "for index in ids:\n",
    "    person = face_client.person_group_person.create(PERSON_GROUP_ID, index)\n",
    "    people.append(person)\n",
    "    index_dict.extend([{'index': index, 'person_id': person.person_id}])\n",
    "\n",
    "people_images = []\n",
    "for index in ids:\n",
    "    person_images = [train_path + file for file in os.listdir(train_path) if file.startswith(index)]\n",
    "    people_images.append(person_images)\n",
    "\n",
    "for person, person_images in zip(people, people_images):\n",
    "    # Add to a woman person\n",
    "    for image in person_images:\n",
    "        w = open(image, 'r+b')\n",
    "        face_client.person_group_person.add_face_from_stream(PERSON_GROUP_ID, person.person_id, w)\n",
    "\n",
    "print()\n",
    "print('Training the person group...')\n",
    "# Train the person group\n",
    "face_client.person_group.train(PERSON_GROUP_ID)\n",
    "\n",
    "while (True):\n",
    "    training_status = face_client.person_group.get_training_status(PERSON_GROUP_ID)\n",
    "    print(\"Training status: {}.\".format(training_status.status))\n",
    "    print()\n",
    "    if (training_status.status is TrainingStatusType.succeeded):\n",
    "        break\n",
    "    elif (training_status.status is TrainingStatusType.failed):\n",
    "        sys.exit('Training the person group has failed.')\n",
    "    time.sleep(5)\n",
    "    \n",
    "TEST_FOLDER = 'imm/test/'\n",
    "test_images = os.listdir(TEST_FOLDER)\n",
    "test_images.sort()\n",
    "confidence_values_no_cloak = []\n",
    "for test_image in test_images:\n",
    "    # Get test image\n",
    "    test_image_array = glob.glob(os.path.join(TEST_FOLDER, test_image))\n",
    "    image = open(test_image_array[0], 'r+b')\n",
    "\n",
    "    # Detect faces\n",
    "    face_ids = []\n",
    "    faces = face_client.face.detect_with_stream(image)\n",
    "    for face in faces:\n",
    "        face_ids.append(face.face_id)\n",
    "\n",
    "    # Identify faces\n",
    "    results = face_client.face.identify(face_ids, PERSON_GROUP_ID)\n",
    "    print('Identifying faces in {}'.format(os.path.basename(image.name)))\n",
    "    if not results:\n",
    "        print('No person identified in the person group for faces from {}.'.format(os.path.basename(image.name)))\n",
    "    else:\n",
    "        for person in results:\n",
    "            if not person.candidates:\n",
    "                print('Cannot identify this identity')\n",
    "            else:\n",
    "                index_person = [d['index'] for d in index_dict if d['person_id']== person.candidates[0].person_id]\n",
    "                if index_person[0] == os.path.basename(image.name).split('-')[0]:\n",
    "                    print('Succesfull identifed with confidence: ', person.candidates[0].confidence)\n",
    "                    confidence_values_no_cloak.append(person.candidates[0].confidence)\n",
    "                else:\n",
    "                    print('Identify wrong person')"
   ]
  },
  {
   "cell_type": "code",
   "execution_count": 8,
   "metadata": {
    "ExecuteTime": {
     "end_time": "2020-08-18T16:09:45.746735Z",
     "start_time": "2020-08-18T16:09:45.457351Z"
    }
   },
   "outputs": [
    {
     "data": {
      "image/png": "[encoded data removed]",
      "text/plain": [
       "<Figure size 432x288 with 1 Axes>"
      ]
     },
     "metadata": {
      "needs_background": "light"
     },
     "output_type": "display_data"
    }
   ],
   "source": [
    "plt.hist(confidence_values_no_cloak, density=True, bins=30)  # `density=False` would make counts\n",
    "plt.ylabel('Probability')\n",
    "plt.xlabel('Confidence')\n",
    "plt.savefig('confidence_hist_no_cloak.png')"
   ]
  },
  {
   "cell_type": "code",
   "execution_count": null,
   "metadata": {
    "ExecuteTime": {
     "start_time": "2020-08-18T16:10:14.840Z"
    }
   },
   "outputs": [
    {
     "name": "stdout",
     "output_type": "stream",
     "text": [
      "Person group: imm_04\n"
     ]
    }
   ],
   "source": [
    "# Used in the Person Group Operations,  Snapshot Operations, and Delete Person Group examples.\n",
    "# You can call list_person_groups to print a list of preexisting PersonGroups.\n",
    "# SOURCE_PERSON_GROUP_ID should be all lowercase and alphanumeric. For example, 'mygroupname' (dashes are OK).\n",
    "PERSON_GROUP_ID = 'imm_04'\n",
    "\n",
    "# Used for the Snapshot and Delete Person Group examples.\n",
    "TARGET_PERSON_GROUP_ID = str(uuid.uuid4()) # assign a random ID (or name it anything)\n",
    "\n",
    "train_path = 'imm/train_min/'\n",
    "ids = set([x.split('-')[0] for x in os.listdir(train_path)])\n",
    "ids = list(ids)\n",
    "ids.sort()\n",
    "\n",
    "'''\n",
    "Create the PersonGroup\n",
    "'''\n",
    "# Create empty Person Group. Person Group ID must be lower case, alphanumeric, and/or with '-', '_'.\n",
    "print('Person group:', PERSON_GROUP_ID)\n",
    "face_client.person_group.create(person_group_id=PERSON_GROUP_ID, name=PERSON_GROUP_ID)\n",
    "\n",
    "people = []\n",
    "index_dict = []\n",
    "for index in ids:\n",
    "    person = face_client.person_group_person.create(PERSON_GROUP_ID, index)\n",
    "    people.append(person)\n",
    "    index_dict.extend([{'index': index, 'person_id': person.person_id}])\n",
    "\n",
    "\n",
    "'''\n",
    "Detect faces and register to correct person\n",
    "'''\n",
    "# Find all jpeg images of person in working directory\n",
    "people_images = []\n",
    "for index in ids:\n",
    "    person_images = [train_path + file for file in os.listdir(train_path) if file.startswith(index)]\n",
    "    people_images.append(person_images)\n",
    "\n",
    "for person, person_images in zip(people, people_images):\n",
    "    # Add to a woman person\n",
    "    for image in person_images:\n",
    "        w = open(image, 'r+b')\n",
    "        face_client.person_group_person.add_face_from_stream(PERSON_GROUP_ID, person.person_id, w)\n",
    "\n",
    "\n",
    "'''\n",
    "Train PersonGroup\n",
    "'''\n",
    "print()\n",
    "print('Training the person group...')\n",
    "# Train the person group\n",
    "face_client.person_group.train(PERSON_GROUP_ID)\n",
    "\n",
    "while (True):\n",
    "    training_status = face_client.person_group.get_training_status(PERSON_GROUP_ID)\n",
    "    print(\"Training status: {}.\".format(training_status.status))\n",
    "    print()\n",
    "    if (training_status.status is TrainingStatusType.succeeded):\n",
    "        break\n",
    "    elif (training_status.status is TrainingStatusType.failed):\n",
    "        sys.exit('Training the person group has failed.')\n",
    "    time.sleep(5)\n",
    "\n",
    "'''\n",
    "Identify a face against a defined PersonGroup\n",
    "'''\n",
    "TEST_FOLDER = 'imm/test/'\n",
    "test_images = os.listdir(TEST_FOLDER)\n",
    "test_images.sort()\n",
    "confidence_values = []\n",
    "for test_image in test_images:\n",
    "    # Get test image\n",
    "    test_image_array = glob.glob(os.path.join(TEST_FOLDER, test_image))\n",
    "    image = open(test_image_array[0], 'r+b')\n",
    "\n",
    "    # Detect faces\n",
    "    face_ids = []\n",
    "    faces = face_client.face.detect_with_stream(image)\n",
    "    for face in faces:\n",
    "        face_ids.append(face.face_id)\n",
    "\n",
    "    # Identify faces\n",
    "    results = face_client.face.identify(face_ids, PERSON_GROUP_ID)\n",
    "    print('Identifying faces in {}'.format(os.path.basename(image.name)))\n",
    "    if not results:\n",
    "        print('No person identified in the person group for faces from {}.'.format(os.path.basename(image.name)))\n",
    "    else:\n",
    "        for person in results:\n",
    "            if not person.candidates:\n",
    "                print('Cannot identify this identity')\n",
    "            else:\n",
    "                index_person = [d['index'] for d in index_dict if d['person_id']== person.candidates[0].person_id]\n",
    "                if index_person[0] == os.path.basename(image.name).split('-')[0]:\n",
    "                    print('Succesfull identifed with confidence: ', person.candidates[0].confidence)\n",
    "                    confidence_values.append(person.candidates[0].confidence)\n",
    "                else:\n",
    "                    print('Identify wrong person')"
   ]
  },
  {
   "cell_type": "code",
   "execution_count": null,
   "metadata": {
    "ExecuteTime": {
     "start_time": "2020-08-18T16:10:19.161Z"
    }
   },
   "outputs": [],
   "source": [
    "plt.hist(confidence_values, density=True, bins=30)  # `density=False` would make counts\n",
    "plt.ylabel('Probability')\n",
    "plt.xlabel('Confidence')\n",
    "plt.savefig('confidence_hist.png')\n"
   ]
  }
 ],
 "metadata": {
  "kernelspec": {
   "display_name": "azureml_py36_tensorflow",
   "language": "python",
   "name": "conda-env-azureml_py36_tensorflow-py"
  },
  "language_info": {
   "codemirror_mode": {
    "name": "ipython",
    "version": 3
   },
   "file_extension": ".py",
   "mimetype": "text/x-python",
   "name": "python",
   "nbconvert_exporter": "python",
   "pygments_lexer": "ipython3",
   "version": "3.6.9"
  },
  "toc": {
   "base_numbering": 1,
   "nav_menu": {},
   "number_sections": true,
   "sideBar": true,
   "skip_h1_title": false,
   "title_cell": "Table of Contents",
   "title_sidebar": "Contents",
   "toc_cell": false,
   "toc_position": {},
   "toc_section_display": true,
   "toc_window_display": false
  }
 },
 "nbformat": 4,
 "nbformat_minor": 4
}
