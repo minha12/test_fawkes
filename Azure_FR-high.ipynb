{
 "cells": [
  {
   "cell_type": "code",
   "execution_count": 12,
   "metadata": {
    "ExecuteTime": {
     "end_time": "2020-08-18T16:04:20.404548Z",
     "start_time": "2020-08-18T16:04:19.686955Z"
    }
   },
   "outputs": [],
   "source": [
    "import glob\n",
    "import os\n",
    "import sys\n",
    "import time\n",
    "import uuid\n",
    "from PIL import Image, ImageDraw\n",
    "import matplotlib.pyplot as plt\n",
    "from azure.cognitiveservices.vision.face import FaceClient\n",
    "from msrest.authentication import CognitiveServicesCredentials\n",
    "from azure.cognitiveservices.vision.face.models import TrainingStatusType, Person"
   ]
  },
  {
   "cell_type": "code",
   "execution_count": 3,
   "metadata": {
    "ExecuteTime": {
     "end_time": "2020-08-18T15:59:17.576975Z",
     "start_time": "2020-08-18T15:59:17.574368Z"
    }
   },
   "outputs": [],
   "source": [
    "KEY = os.environ['COGNITIVE_SERVICE_KEY']\n",
    "ENDPOINT = os.environ['ENDPOINT'] "
   ]
  },
  {
   "cell_type": "code",
   "execution_count": 4,
   "metadata": {
    "ExecuteTime": {
     "end_time": "2020-08-18T15:59:19.743837Z",
     "start_time": "2020-08-18T15:59:19.734842Z"
    }
   },
   "outputs": [],
   "source": [
    "# Create an authenticated FaceClient.\n",
    "face_client = FaceClient(ENDPOINT, CognitiveServicesCredentials(KEY))"
   ]
  },
  {
   "cell_type": "code",
   "execution_count": 5,
   "metadata": {
    "ExecuteTime": {
     "end_time": "2020-08-18T15:59:25.689448Z",
     "start_time": "2020-08-18T15:59:25.686651Z"
    }
   },
   "outputs": [],
   "source": [
    "# Used in the Person Group Operations,  Snapshot Operations, and Delete Person Group examples.\n",
    "# You can call list_person_groups to print a list of preexisting PersonGroups.\n",
    "# SOURCE_PERSON_GROUP_ID should be all lowercase and alphanumeric. For example, 'mygroupname' (dashes are OK).\n",
    "PERSON_GROUP_ID = 'imm_high_03'\n",
    "\n",
    "# Used for the Snapshot and Delete Person Group examples.\n",
    "TARGET_PERSON_GROUP_ID = str(uuid.uuid4()) # assign a random ID (or name it anything)"
   ]
  },
  {
   "cell_type": "code",
   "execution_count": 6,
   "metadata": {
    "ExecuteTime": {
     "end_time": "2020-08-18T15:59:28.889176Z",
     "start_time": "2020-08-18T15:59:28.846595Z"
    }
   },
   "outputs": [],
   "source": [
    "train_path = 'imm/train_high/'\n",
    "ids = set([x.split('-')[0] for x in os.listdir(train_path)])\n",
    "ids = list(ids)\n",
    "ids.sort()"
   ]
  },
  {
   "cell_type": "code",
   "execution_count": 7,
   "metadata": {
    "ExecuteTime": {
     "end_time": "2020-08-18T15:59:35.309881Z",
     "start_time": "2020-08-18T15:59:31.046886Z"
    }
   },
   "outputs": [
    {
     "name": "stdout",
     "output_type": "stream",
     "text": [
      "Person group: imm_high_03\n"
     ]
    }
   ],
   "source": [
    "'''\n",
    "Create the PersonGroup\n",
    "'''\n",
    "# Create empty Person Group. Person Group ID must be lower case, alphanumeric, and/or with '-', '_'.\n",
    "print('Person group:', PERSON_GROUP_ID)\n",
    "face_client.person_group.create(person_group_id=PERSON_GROUP_ID, name=PERSON_GROUP_ID)\n",
    "\n",
    "people = []\n",
    "index_dict = []\n",
    "for index in ids:\n",
    "    person = face_client.person_group_person.create(PERSON_GROUP_ID, index)\n",
    "    people.append(person)\n",
    "    index_dict.extend([{'index': index, 'person_id': person.person_id}])\n"
   ]
  },
  {
   "cell_type": "code",
   "execution_count": 8,
   "metadata": {
    "ExecuteTime": {
     "end_time": "2020-08-18T16:00:31.794232Z",
     "start_time": "2020-08-18T15:59:36.226907Z"
    }
   },
   "outputs": [],
   "source": [
    "'''\n",
    "Detect faces and register to correct person\n",
    "'''\n",
    "# Find all jpeg images of person in working directory\n",
    "people_images = []\n",
    "for index in ids:\n",
    "    person_images = [train_path + file for file in os.listdir(train_path) if file.startswith(index)]\n",
    "    people_images.append(person_images)\n",
    "\n",
    "for person, person_images in zip(people, people_images):\n",
    "    # Add to a woman person\n",
    "    for image in person_images:\n",
    "        w = open(image, 'r+b')\n",
    "        face_client.person_group_person.add_face_from_stream(PERSON_GROUP_ID, person.person_id, w)\n"
   ]
  },
  {
   "cell_type": "code",
   "execution_count": 9,
   "metadata": {
    "ExecuteTime": {
     "end_time": "2020-08-18T16:00:36.945137Z",
     "start_time": "2020-08-18T16:00:31.795934Z"
    }
   },
   "outputs": [
    {
     "name": "stdout",
     "output_type": "stream",
     "text": [
      "\n",
      "Training the person group...\n",
      "Training status: running.\n",
      "\n",
      "Training status: succeeded.\n",
      "\n"
     ]
    }
   ],
   "source": [
    "'''\n",
    "Train PersonGroup\n",
    "'''\n",
    "print()\n",
    "print('Training the person group...')\n",
    "# Train the person group\n",
    "face_client.person_group.train(PERSON_GROUP_ID)\n",
    "\n",
    "while (True):\n",
    "    training_status = face_client.person_group.get_training_status(PERSON_GROUP_ID)\n",
    "    print(\"Training status: {}.\".format(training_status.status))\n",
    "    print()\n",
    "    if (training_status.status is TrainingStatusType.succeeded):\n",
    "        break\n",
    "    elif (training_status.status is TrainingStatusType.failed):\n",
    "        sys.exit('Training the person group has failed.')\n",
    "    time.sleep(5)"
   ]
  },
  {
   "cell_type": "code",
   "execution_count": 18,
   "metadata": {
    "ExecuteTime": {
     "end_time": "2020-08-18T16:06:25.426441Z",
     "start_time": "2020-08-18T16:06:15.069207Z"
    },
    "scrolled": false
   },
   "outputs": [
    {
     "name": "stdout",
     "output_type": "stream",
     "text": [
      "Identifying faces in 01-6m.jpg\n",
      "Cannot identify this identity\n",
      "Identifying faces in 02-6m.jpg\n",
      "Succesfull identifed with confidence:  0.57943\n",
      "Identifying faces in 03-6m.jpg\n",
      "Succesfull identifed with confidence:  0.5572\n",
      "Identifying faces in 04-6m.jpg\n",
      "Cannot identify this identity\n",
      "Identifying faces in 05-6m.jpg\n",
      "Succesfull identifed with confidence:  0.55493\n",
      "Identifying faces in 06-6m.jpg\n",
      "Succesfull identifed with confidence:  0.53334\n",
      "Identifying faces in 07-6m.jpg\n",
      "Succesfull identifed with confidence:  0.52002\n",
      "Identifying faces in 08-6f.jpg\n",
      "Succesfull identifed with confidence:  0.59682\n",
      "Identifying faces in 09-6m.jpg\n",
      "Succesfull identifed with confidence:  0.56001\n",
      "Identifying faces in 10-6m.jpg\n",
      "Succesfull identifed with confidence:  0.59454\n",
      "Identifying faces in 11-6m.jpg\n",
      "Succesfull identifed with confidence:  0.58828\n",
      "Identifying faces in 12-6f.jpg\n",
      "Cannot identify this identity\n",
      "Identifying faces in 13-6m.jpg\n",
      "Cannot identify this identity\n",
      "Identifying faces in 14-6f.jpg\n",
      "Cannot identify this identity\n",
      "Identifying faces in 15-6f.jpg\n",
      "Cannot identify this identity\n",
      "Identifying faces in 16-6m.jpg\n",
      "Cannot identify this identity\n",
      "Identifying faces in 17-6m.jpg\n",
      "Cannot identify this identity\n",
      "Identifying faces in 18-6m.jpg\n",
      "Succesfull identifed with confidence:  0.63938\n",
      "Identifying faces in 19-6m.jpg\n",
      "Succesfull identifed with confidence:  0.54023\n",
      "Identifying faces in 20-6m.jpg\n",
      "Succesfull identifed with confidence:  0.5264\n",
      "Identifying faces in 21-6m.jpg\n",
      "Cannot identify this identity\n",
      "Identifying faces in 22-6f.jpg\n",
      "Cannot identify this identity\n",
      "Identifying faces in 23-6m.jpg\n",
      "Cannot identify this identity\n",
      "Identifying faces in 24-6m.jpg\n",
      "Cannot identify this identity\n",
      "Identifying faces in 25-6m.jpg\n",
      "Cannot identify this identity\n",
      "Identifying faces in 26-6m.jpg\n",
      "Succesfull identifed with confidence:  0.57417\n",
      "Identifying faces in 27-6m.jpg\n",
      "Cannot identify this identity\n",
      "Identifying faces in 28-6m.jpg\n",
      "Succesfull identifed with confidence:  0.51044\n",
      "Identifying faces in 29-6m.jpg\n",
      "Succesfull identifed with confidence:  0.55832\n",
      "Identifying faces in 30-6f.jpg\n",
      "Succesfull identifed with confidence:  0.59454\n",
      "Identifying faces in 31-6m.jpg\n",
      "Cannot identify this identity\n",
      "Identifying faces in 32-6m.jpg\n",
      "Succesfull identifed with confidence:  0.5228\n",
      "Identifying faces in 33-6m.jpg\n",
      "Succesfull identifed with confidence:  0.5324\n",
      "Identifying faces in 34-6m.jpg\n",
      "Succesfull identifed with confidence:  0.55286\n",
      "Identifying faces in 35-6f.jpg\n",
      "Cannot identify this identity\n",
      "Identifying faces in 36-6m.jpg\n",
      "Succesfull identifed with confidence:  0.58507\n",
      "Identifying faces in 37-6m.jpg\n",
      "Cannot identify this identity\n",
      "Identifying faces in 38-6m.jpg\n",
      "Cannot identify this identity\n",
      "Identifying faces in 39-6m.jpg\n",
      "Cannot identify this identity\n",
      "Identifying faces in 40-6m.jpg\n",
      "Succesfull identifed with confidence:  0.52671\n",
      "Percentage of un-identified images:  0.475\n"
     ]
    }
   ],
   "source": [
    "'''\n",
    "Identify a face against a defined PersonGroup\n",
    "'''\n",
    "TEST_FOLDER = 'imm/test/'\n",
    "test_images = os.listdir(TEST_FOLDER)\n",
    "test_images.sort()\n",
    "confidence_values = []\n",
    "count = 0\n",
    "for test_image in test_images:\n",
    "    # Get test image\n",
    "    test_image_array = glob.glob(os.path.join(TEST_FOLDER, test_image))\n",
    "    image = open(test_image_array[0], 'r+b')\n",
    "\n",
    "    # Detect faces\n",
    "    face_ids = []\n",
    "    faces = face_client.face.detect_with_stream(image)\n",
    "    for face in faces:\n",
    "        face_ids.append(face.face_id)\n",
    "\n",
    "    # Identify faces\n",
    "    results = face_client.face.identify(face_ids, PERSON_GROUP_ID)\n",
    "    print('Identifying faces in {}'.format(os.path.basename(image.name)))\n",
    "    if not results:\n",
    "        count += 1\n",
    "        print('No person identified in the person group for faces from {}.'.format(os.path.basename(image.name)))\n",
    "    else:\n",
    "        for person in results:\n",
    "            if not person.candidates:\n",
    "                count += 1\n",
    "                print('Cannot identify this identity')\n",
    "                confidence_values.append(0)\n",
    "            else:\n",
    "                index_person = [d['index'] for d in index_dict if d['person_id']== person.candidates[0].person_id]\n",
    "                if index_person[0] == os.path.basename(image.name).split('-')[0]:\n",
    "                    print('Succesfull identifed with confidence: ', person.candidates[0].confidence)\n",
    "                    confidence_values.append(person.candidates[0].confidence)\n",
    "                else:\n",
    "                    count +=1\n",
    "                    print('Identify wrong person')\n",
    "                    confidence_values.append(0)\n",
    "print('Percentage of un-identified images: ', count/len(test_images))"
   ]
  },
  {
   "cell_type": "code",
   "execution_count": 19,
   "metadata": {
    "ExecuteTime": {
     "end_time": "2020-08-18T16:06:25.432032Z",
     "start_time": "2020-08-18T16:06:25.428333Z"
    }
   },
   "outputs": [
    {
     "data": {
      "text/plain": [
       "[0,\n",
       " 0.57943,\n",
       " 0.5572,\n",
       " 0,\n",
       " 0.55493,\n",
       " 0.53334,\n",
       " 0.52002,\n",
       " 0.59682,\n",
       " 0.56001,\n",
       " 0.59454,\n",
       " 0.58828,\n",
       " 0,\n",
       " 0,\n",
       " 0,\n",
       " 0,\n",
       " 0,\n",
       " 0,\n",
       " 0.63938,\n",
       " 0.54023,\n",
       " 0.5264,\n",
       " 0,\n",
       " 0,\n",
       " 0,\n",
       " 0,\n",
       " 0,\n",
       " 0.57417,\n",
       " 0,\n",
       " 0.51044,\n",
       " 0.55832,\n",
       " 0.59454,\n",
       " 0,\n",
       " 0.5228,\n",
       " 0.5324,\n",
       " 0.55286,\n",
       " 0,\n",
       " 0.58507,\n",
       " 0,\n",
       " 0,\n",
       " 0,\n",
       " 0.52671]"
      ]
     },
     "execution_count": 19,
     "metadata": {},
     "output_type": "execute_result"
    }
   ],
   "source": [
    "confidence_values"
   ]
  },
  {
   "cell_type": "code",
   "execution_count": 22,
   "metadata": {
    "ExecuteTime": {
     "end_time": "2020-08-18T16:07:15.876709Z",
     "start_time": "2020-08-18T16:07:15.588796Z"
    }
   },
   "outputs": [
    {
     "data": {
      "image/png": "[encoded data removed]",
      "text/plain": [
       "<Figure size 432x288 with 1 Axes>"
      ]
     },
     "metadata": {
      "needs_background": "light"
     },
     "output_type": "display_data"
    }
   ],
   "source": [
    "plt.hist(confidence_values, density=True, bins=30)  # `density=False` would make counts\n",
    "plt.ylabel('Frequency')\n",
    "plt.xlabel('Confidence')\n",
    "plt.savefig('confidence_hist_high.png')"
   ]
  }
 ],
 "metadata": {
  "kernelspec": {
   "display_name": "azureml_py36_tensorflow",
   "language": "python",
   "name": "conda-env-azureml_py36_tensorflow-py"
  },
  "language_info": {
   "codemirror_mode": {
    "name": "ipython",
    "version": 3
   },
   "file_extension": ".py",
   "mimetype": "text/x-python",
   "name": "python",
   "nbconvert_exporter": "python",
   "pygments_lexer": "ipython3",
   "version": "3.6.9"
  },
  "toc": {
   "base_numbering": 1,
   "nav_menu": {},
   "number_sections": true,
   "sideBar": true,
   "skip_h1_title": false,
   "title_cell": "Table of Contents",
   "title_sidebar": "Contents",
   "toc_cell": false,
   "toc_position": {},
   "toc_section_display": true,
   "toc_window_display": false
  }
 },
 "nbformat": 4,
 "nbformat_minor": 4
}
