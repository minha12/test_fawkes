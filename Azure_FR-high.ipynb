{
 "cells": [
  {
   "cell_type": "code",
   "execution_count": 2,
   "metadata": {
    "ExecuteTime": {
     "end_time": "2020-08-14T11:07:36.362955Z",
     "start_time": "2020-08-14T11:07:36.224724Z"
    }
   },
   "outputs": [],
   "source": [
    "import glob\n",
    "import os\n",
    "import sys\n",
    "import time\n",
    "import uuid\n",
    "from PIL import Image, ImageDraw\n",
    "from azure.cognitiveservices.vision.face import FaceClient\n",
    "from msrest.authentication import CognitiveServicesCredentials\n",
    "from azure.cognitiveservices.vision.face.models import TrainingStatusType, Person"
   ]
  },
  {
   "cell_type": "code",
   "execution_count": 4,
   "metadata": {
    "ExecuteTime": {
     "end_time": "2020-08-14T11:08:26.932671Z",
     "start_time": "2020-08-14T11:08:26.929997Z"
    }
   },
   "outputs": [],
   "source": [
    "KEY = os.environ['COGNITIVE_SERVICE_KEY']\n",
    "ENDPOINT = os.environ['ENDPOINT'] "
   ]
  },
  {
   "cell_type": "code",
   "execution_count": 5,
   "metadata": {
    "ExecuteTime": {
     "end_time": "2020-08-14T11:08:29.638463Z",
     "start_time": "2020-08-14T11:08:29.629130Z"
    }
   },
   "outputs": [],
   "source": [
    "# Create an authenticated FaceClient.\n",
    "face_client = FaceClient(ENDPOINT, CognitiveServicesCredentials(KEY))"
   ]
  },
  {
   "cell_type": "code",
   "execution_count": 6,
   "metadata": {
    "ExecuteTime": {
     "end_time": "2020-08-14T11:08:35.125935Z",
     "start_time": "2020-08-14T11:08:35.123241Z"
    }
   },
   "outputs": [],
   "source": [
    "# Used in the Person Group Operations,  Snapshot Operations, and Delete Person Group examples.\n",
    "# You can call list_person_groups to print a list of preexisting PersonGroups.\n",
    "# SOURCE_PERSON_GROUP_ID should be all lowercase and alphanumeric. For example, 'mygroupname' (dashes are OK).\n",
    "PERSON_GROUP_ID = 'imm_high_02'\n",
    "\n",
    "# Used for the Snapshot and Delete Person Group examples.\n",
    "TARGET_PERSON_GROUP_ID = str(uuid.uuid4()) # assign a random ID (or name it anything)"
   ]
  },
  {
   "cell_type": "code",
   "execution_count": 7,
   "metadata": {
    "ExecuteTime": {
     "end_time": "2020-08-14T11:08:37.559796Z",
     "start_time": "2020-08-14T11:08:37.556438Z"
    }
   },
   "outputs": [],
   "source": [
    "train_path = 'imm/train_high/'\n",
    "ids = set([x.split('-')[0] for x in os.listdir(train_path)])\n",
    "ids = list(ids)\n",
    "ids.sort()"
   ]
  },
  {
   "cell_type": "code",
   "execution_count": 8,
   "metadata": {
    "ExecuteTime": {
     "end_time": "2020-08-14T11:08:45.452737Z",
     "start_time": "2020-08-14T11:08:40.749830Z"
    }
   },
   "outputs": [
    {
     "name": "stdout",
     "output_type": "stream",
     "text": [
      "Person group: imm_high_02\n"
     ]
    }
   ],
   "source": [
    "'''\n",
    "Create the PersonGroup\n",
    "'''\n",
    "# Create empty Person Group. Person Group ID must be lower case, alphanumeric, and/or with '-', '_'.\n",
    "print('Person group:', PERSON_GROUP_ID)\n",
    "face_client.person_group.create(person_group_id=PERSON_GROUP_ID, name=PERSON_GROUP_ID)\n",
    "\n",
    "people = []\n",
    "index_dict = []\n",
    "for index in ids:\n",
    "    person = face_client.person_group_person.create(PERSON_GROUP_ID, index)\n",
    "    people.append(person)\n",
    "    index_dict.extend([{'index': index, 'person_id': person.person_id}])\n"
   ]
  },
  {
   "cell_type": "code",
   "execution_count": 9,
   "metadata": {
    "ExecuteTime": {
     "end_time": "2020-08-14T11:09:32.257015Z",
     "start_time": "2020-08-14T11:08:45.454397Z"
    }
   },
   "outputs": [],
   "source": [
    "'''\n",
    "Detect faces and register to correct person\n",
    "'''\n",
    "# Find all jpeg images of person in working directory\n",
    "people_images = []\n",
    "for index in ids:\n",
    "    person_images = [train_path + file for file in os.listdir(train_path) if file.startswith(index)]\n",
    "    people_images.append(person_images)\n",
    "\n",
    "for person, person_images in zip(people, people_images):\n",
    "    # Add to a woman person\n",
    "    for image in person_images:\n",
    "        w = open(image, 'r+b')\n",
    "        face_client.person_group_person.add_face_from_stream(PERSON_GROUP_ID, person.person_id, w)\n"
   ]
  },
  {
   "cell_type": "code",
   "execution_count": 10,
   "metadata": {
    "ExecuteTime": {
     "end_time": "2020-08-14T11:09:37.365217Z",
     "start_time": "2020-08-14T11:09:32.258828Z"
    }
   },
   "outputs": [
    {
     "name": "stdout",
     "output_type": "stream",
     "text": [
      "\n",
      "Training the person group...\n",
      "Training status: running.\n",
      "\n",
      "Training status: succeeded.\n",
      "\n"
     ]
    }
   ],
   "source": [
    "'''\n",
    "Train PersonGroup\n",
    "'''\n",
    "print()\n",
    "print('Training the person group...')\n",
    "# Train the person group\n",
    "face_client.person_group.train(PERSON_GROUP_ID)\n",
    "\n",
    "while (True):\n",
    "    training_status = face_client.person_group.get_training_status(PERSON_GROUP_ID)\n",
    "    print(\"Training status: {}.\".format(training_status.status))\n",
    "    print()\n",
    "    if (training_status.status is TrainingStatusType.succeeded):\n",
    "        break\n",
    "    elif (training_status.status is TrainingStatusType.failed):\n",
    "        sys.exit('Training the person group has failed.')\n",
    "    time.sleep(5)"
   ]
  },
  {
   "cell_type": "code",
   "execution_count": 12,
   "metadata": {
    "ExecuteTime": {
     "end_time": "2020-08-14T11:11:40.439912Z",
     "start_time": "2020-08-14T11:11:40.243249Z"
    },
    "scrolled": false
   },
   "outputs": [
    {
     "name": "stdout",
     "output_type": "stream",
     "text": [
      "Identifying faces in 01-6m.jpg\n"
     ]
    },
    {
     "ename": "NameError",
     "evalue": "name 'count' is not defined",
     "output_type": "error",
     "traceback": [
      "\u001b[0;31m---------------------------------------------------------------------------\u001b[0m",
      "\u001b[0;31mNameError\u001b[0m                                 Traceback (most recent call last)",
      "\u001b[0;32m<ipython-input-12-2e8ffa0e86f5>\u001b[0m in \u001b[0;36m<module>\u001b[0;34m\u001b[0m\n\u001b[1;32m     26\u001b[0m         \u001b[0;32mfor\u001b[0m \u001b[0mperson\u001b[0m \u001b[0;32min\u001b[0m \u001b[0mresults\u001b[0m\u001b[0;34m:\u001b[0m\u001b[0;34m\u001b[0m\u001b[0;34m\u001b[0m\u001b[0m\n\u001b[1;32m     27\u001b[0m             \u001b[0;32mif\u001b[0m \u001b[0;32mnot\u001b[0m \u001b[0mperson\u001b[0m\u001b[0;34m.\u001b[0m\u001b[0mcandidates\u001b[0m\u001b[0;34m:\u001b[0m\u001b[0;34m\u001b[0m\u001b[0;34m\u001b[0m\u001b[0m\n\u001b[0;32m---> 28\u001b[0;31m                 \u001b[0mcount\u001b[0m \u001b[0;34m+=\u001b[0m \u001b[0;36m1\u001b[0m\u001b[0;34m\u001b[0m\u001b[0;34m\u001b[0m\u001b[0m\n\u001b[0m\u001b[1;32m     29\u001b[0m                 \u001b[0mprint\u001b[0m\u001b[0;34m(\u001b[0m\u001b[0;34m'Cannot identify this identity'\u001b[0m\u001b[0;34m)\u001b[0m\u001b[0;34m\u001b[0m\u001b[0;34m\u001b[0m\u001b[0m\n\u001b[1;32m     30\u001b[0m             \u001b[0;32melse\u001b[0m\u001b[0;34m:\u001b[0m\u001b[0;34m\u001b[0m\u001b[0;34m\u001b[0m\u001b[0m\n",
      "\u001b[0;31mNameError\u001b[0m: name 'count' is not defined"
     ]
    }
   ],
   "source": [
    "'''\n",
    "Identify a face against a defined PersonGroup\n",
    "'''\n",
    "TEST_FOLDER = 'imm/test/'\n",
    "test_images = os.listdir(TEST_FOLDER)\n",
    "test_images.sort()\n",
    "connt = 0\n",
    "for test_image in test_images:\n",
    "    # Get test image\n",
    "    test_image_array = glob.glob(os.path.join(TEST_FOLDER, test_image))\n",
    "    image = open(test_image_array[0], 'r+b')\n",
    "\n",
    "    # Detect faces\n",
    "    face_ids = []\n",
    "    faces = face_client.face.detect_with_stream(image)\n",
    "    for face in faces:\n",
    "        face_ids.append(face.face_id)\n",
    "\n",
    "    # Identify faces\n",
    "    results = face_client.face.identify(face_ids, PERSON_GROUP_ID)\n",
    "    print('Identifying faces in {}'.format(os.path.basename(image.name)))\n",
    "    if not results:\n",
    "        count += 1\n",
    "        print('No person identified in the person group for faces from {}.'.format(os.path.basename(image.name)))\n",
    "    else:\n",
    "        for person in results:\n",
    "            if not person.candidates:\n",
    "                count += 1\n",
    "                print('Cannot identify this identity')\n",
    "            else:\n",
    "                index_person = [d['index'] for d in index_dict if d['person_id']== person.candidates[0].person_id]\n",
    "                if index_person[0] == os.path.basename(image.name).split('-')[0]:\n",
    "                    print('Succesfull identifed with confidence: ', person.candidates[0].confidence)\n",
    "                else:\n",
    "                    count +=1\n",
    "                    print('Identify wrong person')\n",
    "print('Percentage of un-identified images: ', len(count/test_images))"
   ]
  }
 ],
 "metadata": {
  "kernelspec": {
   "display_name": "azureml_py36_tensorflow",
   "language": "python",
   "name": "conda-env-azureml_py36_tensorflow-py"
  },
  "language_info": {
   "codemirror_mode": {
    "name": "ipython",
    "version": 3
   },
   "file_extension": ".py",
   "mimetype": "text/x-python",
   "name": "python",
   "nbconvert_exporter": "python",
   "pygments_lexer": "ipython3",
   "version": "3.6.9"
  },
  "toc": {
   "base_numbering": 1,
   "nav_menu": {},
   "number_sections": true,
   "sideBar": true,
   "skip_h1_title": false,
   "title_cell": "Table of Contents",
   "title_sidebar": "Contents",
   "toc_cell": false,
   "toc_position": {},
   "toc_section_display": true,
   "toc_window_display": false
  }
 },
 "nbformat": 4,
 "nbformat_minor": 4
}
